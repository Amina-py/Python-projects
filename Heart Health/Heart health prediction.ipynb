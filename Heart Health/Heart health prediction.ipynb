{
 "cells": [
  {
   "cell_type": "markdown",
   "id": "b0e473df",
   "metadata": {},
   "source": [
    "# HEART HEALTH ANALYSIS AND PREDICTION"
   ]
  },
  {
   "cell_type": "code",
   "execution_count": 1,
   "id": "4027db27",
   "metadata": {},
   "outputs": [],
   "source": [
    "#IMPORTING NECESSARY LIBRARIES\n",
    "import pandas as pd\n",
    "import numpy as np\n",
    "import seaborn as sns\n",
    "import matplotlib.pyplot as plt\n",
    "\n",
    "import warnings\n",
    "warnings.filterwarnings('ignore')"
   ]
  },
  {
   "cell_type": "code",
   "execution_count": 2,
   "id": "2c046cfa",
   "metadata": {
    "scrolled": true
   },
   "outputs": [
    {
     "data": {
      "text/html": [
       "<div>\n",
       "<style scoped>\n",
       "    .dataframe tbody tr th:only-of-type {\n",
       "        vertical-align: middle;\n",
       "    }\n",
       "\n",
       "    .dataframe tbody tr th {\n",
       "        vertical-align: top;\n",
       "    }\n",
       "\n",
       "    .dataframe thead th {\n",
       "        text-align: right;\n",
       "    }\n",
       "</style>\n",
       "<table border=\"1\" class=\"dataframe\">\n",
       "  <thead>\n",
       "    <tr style=\"text-align: right;\">\n",
       "      <th></th>\n",
       "      <th>Name</th>\n",
       "      <th>Age</th>\n",
       "      <th>Gender</th>\n",
       "      <th>Height(cm)</th>\n",
       "      <th>Weight(kg)</th>\n",
       "      <th>Blood Pressure(mmHg)</th>\n",
       "      <th>Cholesterol(mg/dL)</th>\n",
       "      <th>Glucose(mg/dL)</th>\n",
       "      <th>Smoker</th>\n",
       "      <th>Exercise(hours/week)</th>\n",
       "      <th>Heart Attack</th>\n",
       "    </tr>\n",
       "  </thead>\n",
       "  <tbody>\n",
       "    <tr>\n",
       "      <th>0</th>\n",
       "      <td>John Doe</td>\n",
       "      <td>45</td>\n",
       "      <td>Male</td>\n",
       "      <td>175</td>\n",
       "      <td>80</td>\n",
       "      <td>120/80</td>\n",
       "      <td>200</td>\n",
       "      <td>90</td>\n",
       "      <td>No</td>\n",
       "      <td>3</td>\n",
       "      <td>0</td>\n",
       "    </tr>\n",
       "    <tr>\n",
       "      <th>1</th>\n",
       "      <td>Jane Smith</td>\n",
       "      <td>35</td>\n",
       "      <td>Female</td>\n",
       "      <td>160</td>\n",
       "      <td>65</td>\n",
       "      <td>110/70</td>\n",
       "      <td>180</td>\n",
       "      <td>80</td>\n",
       "      <td>No</td>\n",
       "      <td>2</td>\n",
       "      <td>0</td>\n",
       "    </tr>\n",
       "    <tr>\n",
       "      <th>2</th>\n",
       "      <td>Michael Johnson</td>\n",
       "      <td>55</td>\n",
       "      <td>Male</td>\n",
       "      <td>180</td>\n",
       "      <td>85</td>\n",
       "      <td>130/85</td>\n",
       "      <td>220</td>\n",
       "      <td>95</td>\n",
       "      <td>Yes</td>\n",
       "      <td>4</td>\n",
       "      <td>1</td>\n",
       "    </tr>\n",
       "    <tr>\n",
       "      <th>3</th>\n",
       "      <td>Sarah Brown</td>\n",
       "      <td>40</td>\n",
       "      <td>Female</td>\n",
       "      <td>165</td>\n",
       "      <td>70</td>\n",
       "      <td>115/75</td>\n",
       "      <td>190</td>\n",
       "      <td>85</td>\n",
       "      <td>No</td>\n",
       "      <td>3</td>\n",
       "      <td>0</td>\n",
       "    </tr>\n",
       "    <tr>\n",
       "      <th>4</th>\n",
       "      <td>David Lee</td>\n",
       "      <td>50</td>\n",
       "      <td>Male</td>\n",
       "      <td>170</td>\n",
       "      <td>75</td>\n",
       "      <td>125/80</td>\n",
       "      <td>210</td>\n",
       "      <td>92</td>\n",
       "      <td>Yes</td>\n",
       "      <td>2</td>\n",
       "      <td>1</td>\n",
       "    </tr>\n",
       "  </tbody>\n",
       "</table>\n",
       "</div>"
      ],
      "text/plain": [
       "              Name  Age  Gender  Height(cm)  Weight(kg) Blood Pressure(mmHg)  \\\n",
       "0         John Doe   45    Male         175          80               120/80   \n",
       "1       Jane Smith   35  Female         160          65               110/70   \n",
       "2  Michael Johnson   55    Male         180          85               130/85   \n",
       "3      Sarah Brown   40  Female         165          70               115/75   \n",
       "4        David Lee   50    Male         170          75               125/80   \n",
       "\n",
       "   Cholesterol(mg/dL)  Glucose(mg/dL) Smoker  Exercise(hours/week)  \\\n",
       "0                 200              90     No                     3   \n",
       "1                 180              80     No                     2   \n",
       "2                 220              95    Yes                     4   \n",
       "3                 190              85     No                     3   \n",
       "4                 210              92    Yes                     2   \n",
       "\n",
       "   Heart Attack  \n",
       "0             0  \n",
       "1             0  \n",
       "2             1  \n",
       "3             0  \n",
       "4             1  "
      ]
     },
     "execution_count": 2,
     "metadata": {},
     "output_type": "execute_result"
    }
   ],
   "source": [
    "#IMPORTING THE DATASET USING PANDAS DATAFRAME\n",
    "heart = pd.read_csv(\"Heart_health.csv\")\n",
    "heart.head()"
   ]
  },
  {
   "cell_type": "code",
   "execution_count": 3,
   "id": "0f533c53",
   "metadata": {},
   "outputs": [
    {
     "name": "stdout",
     "output_type": "stream",
     "text": [
      "Number of rows: 714\n",
      "Number of columns: 11\n"
     ]
    }
   ],
   "source": [
    "#HECKING NUMBER OF ROWS AND COLUMN OF THE DATASET\n",
    "print(\"Number of rows:\", heart.shape[0])\n",
    "print(\"Number of columns:\", heart.shape[1])"
   ]
  },
  {
   "cell_type": "code",
   "execution_count": 4,
   "id": "168e2092",
   "metadata": {},
   "outputs": [
    {
     "data": {
      "text/plain": [
       "Name                    0\n",
       "Age                     0\n",
       "Gender                  0\n",
       "Height(cm)              0\n",
       "Weight(kg)              0\n",
       "Blood Pressure(mmHg)    0\n",
       "Cholesterol(mg/dL)      0\n",
       "Glucose(mg/dL)          0\n",
       "Smoker                  0\n",
       "Exercise(hours/week)    0\n",
       "Heart Attack            0\n",
       "dtype: int64"
      ]
     },
     "execution_count": 4,
     "metadata": {},
     "output_type": "execute_result"
    }
   ],
   "source": [
    "#CHECKING THE PRESENCE OF NULL VALUES\n",
    "heart.isnull().sum()"
   ]
  },
  {
   "cell_type": "code",
   "execution_count": 5,
   "id": "2b2b30ce",
   "metadata": {},
   "outputs": [
    {
     "name": "stdout",
     "output_type": "stream",
     "text": [
      "Number of duplicates present: 535\n"
     ]
    }
   ],
   "source": [
    "#NUMBER OF DUPLICATES PRESENT\n",
    "print(\"Number of duplicates present:\", heart.duplicated().sum())"
   ]
  },
  {
   "cell_type": "code",
   "execution_count": 6,
   "id": "bac4fe3a",
   "metadata": {},
   "outputs": [],
   "source": [
    "#DROPPING THE DUPLICATES FROM THE DATASET\n",
    "heart = heart.drop_duplicates()"
   ]
  },
  {
   "cell_type": "code",
   "execution_count": 7,
   "id": "db13baa8",
   "metadata": {},
   "outputs": [
    {
     "name": "stdout",
     "output_type": "stream",
     "text": [
      "Are there any duplicates: False\n"
     ]
    }
   ],
   "source": [
    "#CONFIRMING IF THERE ARE DUPLICATES LEFT\n",
    "print(\"Are there any duplicates:\", heart.duplicated().any())"
   ]
  },
  {
   "cell_type": "code",
   "execution_count": 8,
   "id": "e1553fc7",
   "metadata": {},
   "outputs": [
    {
     "name": "stdout",
     "output_type": "stream",
     "text": [
      "Number of rows: 179\n",
      "Number of columns: 11\n"
     ]
    }
   ],
   "source": [
    "#CHECKING NUMBER OF ROWS AND COLUMN AFTER REMOVING DUPLICATES\n",
    "print(\"Number of rows:\", heart.shape[0])\n",
    "print(\"Number of columns:\", heart.shape[1])"
   ]
  },
  {
   "cell_type": "code",
   "execution_count": 9,
   "id": "dee2709b",
   "metadata": {},
   "outputs": [],
   "source": [
    "#splitting a column into two and changing its data type\n",
    "heart[\"Blood Pressure(mmHg)\"].str.split(\"/\",2,expand=True)\n",
    "heart[[\"Systolic pressure(mm/Hg)\", \"Diastolic pressure(mm/Hg)\"]] = (\n",
    "    heart[\"Blood Pressure(mmHg)\"].str.split(\"/\",2,expand=True).astype(\"int\")\n",
    ")"
   ]
  },
  {
   "cell_type": "code",
   "execution_count": 10,
   "id": "39d7f0bd",
   "metadata": {},
   "outputs": [
    {
     "name": "stdout",
     "output_type": "stream",
     "text": [
      "<class 'pandas.core.frame.DataFrame'>\n",
      "Int64Index: 179 entries, 0 to 468\n",
      "Data columns (total 13 columns):\n",
      " #   Column                     Non-Null Count  Dtype \n",
      "---  ------                     --------------  ----- \n",
      " 0   Name                       179 non-null    object\n",
      " 1   Age                        179 non-null    int64 \n",
      " 2   Gender                     179 non-null    object\n",
      " 3   Height(cm)                 179 non-null    int64 \n",
      " 4   Weight(kg)                 179 non-null    int64 \n",
      " 5   Blood Pressure(mmHg)       179 non-null    object\n",
      " 6   Cholesterol(mg/dL)         179 non-null    int64 \n",
      " 7   Glucose(mg/dL)             179 non-null    int64 \n",
      " 8   Smoker                     179 non-null    object\n",
      " 9   Exercise(hours/week)       179 non-null    int64 \n",
      " 10  Heart Attack               179 non-null    int64 \n",
      " 11  Systolic pressure(mm/Hg)   179 non-null    int32 \n",
      " 12  Diastolic pressure(mm/Hg)  179 non-null    int32 \n",
      "dtypes: int32(2), int64(7), object(4)\n",
      "memory usage: 18.2+ KB\n"
     ]
    }
   ],
   "source": [
    "#INFORMATION ON THE DATASET\n",
    "heart.info()"
   ]
  },
  {
   "cell_type": "code",
   "execution_count": 11,
   "id": "286434b6",
   "metadata": {
    "scrolled": true
   },
   "outputs": [
    {
     "data": {
      "text/html": [
       "<div>\n",
       "<style scoped>\n",
       "    .dataframe tbody tr th:only-of-type {\n",
       "        vertical-align: middle;\n",
       "    }\n",
       "\n",
       "    .dataframe tbody tr th {\n",
       "        vertical-align: top;\n",
       "    }\n",
       "\n",
       "    .dataframe thead th {\n",
       "        text-align: right;\n",
       "    }\n",
       "</style>\n",
       "<table border=\"1\" class=\"dataframe\">\n",
       "  <thead>\n",
       "    <tr style=\"text-align: right;\">\n",
       "      <th></th>\n",
       "      <th>Age</th>\n",
       "      <th>Height(cm)</th>\n",
       "      <th>Weight(kg)</th>\n",
       "      <th>Cholesterol(mg/dL)</th>\n",
       "      <th>Glucose(mg/dL)</th>\n",
       "      <th>Exercise(hours/week)</th>\n",
       "      <th>Heart Attack</th>\n",
       "      <th>Systolic pressure(mm/Hg)</th>\n",
       "      <th>Diastolic pressure(mm/Hg)</th>\n",
       "    </tr>\n",
       "  </thead>\n",
       "  <tbody>\n",
       "    <tr>\n",
       "      <th>count</th>\n",
       "      <td>179.000000</td>\n",
       "      <td>179.000000</td>\n",
       "      <td>179.000000</td>\n",
       "      <td>179.000000</td>\n",
       "      <td>179.000000</td>\n",
       "      <td>179.000000</td>\n",
       "      <td>179.000000</td>\n",
       "      <td>179.000000</td>\n",
       "      <td>179.000000</td>\n",
       "    </tr>\n",
       "    <tr>\n",
       "      <th>mean</th>\n",
       "      <td>45.229050</td>\n",
       "      <td>170.977654</td>\n",
       "      <td>75.670391</td>\n",
       "      <td>204.608939</td>\n",
       "      <td>91.011173</td>\n",
       "      <td>2.653631</td>\n",
       "      <td>0.564246</td>\n",
       "      <td>121.581006</td>\n",
       "      <td>77.513966</td>\n",
       "    </tr>\n",
       "    <tr>\n",
       "      <th>std</th>\n",
       "      <td>8.649741</td>\n",
       "      <td>7.434323</td>\n",
       "      <td>7.580116</td>\n",
       "      <td>13.986877</td>\n",
       "      <td>5.710220</td>\n",
       "      <td>0.931729</td>\n",
       "      <td>0.497246</td>\n",
       "      <td>5.846143</td>\n",
       "      <td>4.133119</td>\n",
       "    </tr>\n",
       "    <tr>\n",
       "      <th>min</th>\n",
       "      <td>30.000000</td>\n",
       "      <td>155.000000</td>\n",
       "      <td>60.000000</td>\n",
       "      <td>170.000000</td>\n",
       "      <td>75.000000</td>\n",
       "      <td>1.000000</td>\n",
       "      <td>0.000000</td>\n",
       "      <td>105.000000</td>\n",
       "      <td>65.000000</td>\n",
       "    </tr>\n",
       "    <tr>\n",
       "      <th>25%</th>\n",
       "      <td>38.000000</td>\n",
       "      <td>166.000000</td>\n",
       "      <td>70.000000</td>\n",
       "      <td>195.000000</td>\n",
       "      <td>88.000000</td>\n",
       "      <td>2.000000</td>\n",
       "      <td>0.000000</td>\n",
       "      <td>118.000000</td>\n",
       "      <td>75.000000</td>\n",
       "    </tr>\n",
       "    <tr>\n",
       "      <th>50%</th>\n",
       "      <td>45.000000</td>\n",
       "      <td>170.000000</td>\n",
       "      <td>75.000000</td>\n",
       "      <td>205.000000</td>\n",
       "      <td>92.000000</td>\n",
       "      <td>3.000000</td>\n",
       "      <td>1.000000</td>\n",
       "      <td>122.000000</td>\n",
       "      <td>78.000000</td>\n",
       "    </tr>\n",
       "    <tr>\n",
       "      <th>75%</th>\n",
       "      <td>53.000000</td>\n",
       "      <td>177.500000</td>\n",
       "      <td>81.500000</td>\n",
       "      <td>215.000000</td>\n",
       "      <td>96.000000</td>\n",
       "      <td>3.000000</td>\n",
       "      <td>1.000000</td>\n",
       "      <td>125.000000</td>\n",
       "      <td>80.000000</td>\n",
       "    </tr>\n",
       "    <tr>\n",
       "      <th>max</th>\n",
       "      <td>60.000000</td>\n",
       "      <td>183.000000</td>\n",
       "      <td>89.000000</td>\n",
       "      <td>230.000000</td>\n",
       "      <td>100.000000</td>\n",
       "      <td>4.000000</td>\n",
       "      <td>1.000000</td>\n",
       "      <td>135.000000</td>\n",
       "      <td>85.000000</td>\n",
       "    </tr>\n",
       "  </tbody>\n",
       "</table>\n",
       "</div>"
      ],
      "text/plain": [
       "              Age  Height(cm)  Weight(kg)  Cholesterol(mg/dL)  Glucose(mg/dL)  \\\n",
       "count  179.000000  179.000000  179.000000          179.000000      179.000000   \n",
       "mean    45.229050  170.977654   75.670391          204.608939       91.011173   \n",
       "std      8.649741    7.434323    7.580116           13.986877        5.710220   \n",
       "min     30.000000  155.000000   60.000000          170.000000       75.000000   \n",
       "25%     38.000000  166.000000   70.000000          195.000000       88.000000   \n",
       "50%     45.000000  170.000000   75.000000          205.000000       92.000000   \n",
       "75%     53.000000  177.500000   81.500000          215.000000       96.000000   \n",
       "max     60.000000  183.000000   89.000000          230.000000      100.000000   \n",
       "\n",
       "       Exercise(hours/week)  Heart Attack  Systolic pressure(mm/Hg)  \\\n",
       "count            179.000000    179.000000                179.000000   \n",
       "mean               2.653631      0.564246                121.581006   \n",
       "std                0.931729      0.497246                  5.846143   \n",
       "min                1.000000      0.000000                105.000000   \n",
       "25%                2.000000      0.000000                118.000000   \n",
       "50%                3.000000      1.000000                122.000000   \n",
       "75%                3.000000      1.000000                125.000000   \n",
       "max                4.000000      1.000000                135.000000   \n",
       "\n",
       "       Diastolic pressure(mm/Hg)  \n",
       "count                 179.000000  \n",
       "mean                   77.513966  \n",
       "std                     4.133119  \n",
       "min                    65.000000  \n",
       "25%                    75.000000  \n",
       "50%                    78.000000  \n",
       "75%                    80.000000  \n",
       "max                    85.000000  "
      ]
     },
     "execution_count": 11,
     "metadata": {},
     "output_type": "execute_result"
    }
   ],
   "source": [
    "#DESCRIPTIVE SUMMARY OF NUMERIC COLUMNS\n",
    "heart.describe()"
   ]
  },
  {
   "cell_type": "code",
   "execution_count": 12,
   "id": "3aacddab",
   "metadata": {},
   "outputs": [],
   "source": [
    "#SAVING THE CLEANED DATASET\n",
    "heart.to_csv(\"hearthealth.csv\")"
   ]
  },
  {
   "cell_type": "code",
   "execution_count": 13,
   "id": "23097a4e",
   "metadata": {},
   "outputs": [],
   "source": [
    "heart[\"Gender\"] = heart[\"Gender\"].astype(\"category\").cat.codes\n",
    "#heart[\"Gender\"] = heart[\"Gender\"].cat.codes"
   ]
  },
  {
   "cell_type": "code",
   "execution_count": 14,
   "id": "fcf95b5d",
   "metadata": {},
   "outputs": [],
   "source": [
    "heart[\"Smoker\"] = heart[\"Smoker\"].astype(\"category\").cat.codes\n",
    "#heart[\"Smoker\"] = heart[\"Smoker\"].cat.codes"
   ]
  },
  {
   "cell_type": "code",
   "execution_count": 15,
   "id": "6b2dc453",
   "metadata": {},
   "outputs": [
    {
     "data": {
      "text/html": [
       "<div>\n",
       "<style scoped>\n",
       "    .dataframe tbody tr th:only-of-type {\n",
       "        vertical-align: middle;\n",
       "    }\n",
       "\n",
       "    .dataframe tbody tr th {\n",
       "        vertical-align: top;\n",
       "    }\n",
       "\n",
       "    .dataframe thead th {\n",
       "        text-align: right;\n",
       "    }\n",
       "</style>\n",
       "<table border=\"1\" class=\"dataframe\">\n",
       "  <thead>\n",
       "    <tr style=\"text-align: right;\">\n",
       "      <th></th>\n",
       "      <th>Name</th>\n",
       "      <th>Age</th>\n",
       "      <th>Gender</th>\n",
       "      <th>Height(cm)</th>\n",
       "      <th>Weight(kg)</th>\n",
       "      <th>Blood Pressure(mmHg)</th>\n",
       "      <th>Cholesterol(mg/dL)</th>\n",
       "      <th>Glucose(mg/dL)</th>\n",
       "      <th>Smoker</th>\n",
       "      <th>Exercise(hours/week)</th>\n",
       "      <th>Heart Attack</th>\n",
       "      <th>Systolic pressure(mm/Hg)</th>\n",
       "      <th>Diastolic pressure(mm/Hg)</th>\n",
       "    </tr>\n",
       "  </thead>\n",
       "  <tbody>\n",
       "    <tr>\n",
       "      <th>0</th>\n",
       "      <td>John Doe</td>\n",
       "      <td>45</td>\n",
       "      <td>1</td>\n",
       "      <td>175</td>\n",
       "      <td>80</td>\n",
       "      <td>120/80</td>\n",
       "      <td>200</td>\n",
       "      <td>90</td>\n",
       "      <td>0</td>\n",
       "      <td>3</td>\n",
       "      <td>0</td>\n",
       "      <td>120</td>\n",
       "      <td>80</td>\n",
       "    </tr>\n",
       "    <tr>\n",
       "      <th>1</th>\n",
       "      <td>Jane Smith</td>\n",
       "      <td>35</td>\n",
       "      <td>0</td>\n",
       "      <td>160</td>\n",
       "      <td>65</td>\n",
       "      <td>110/70</td>\n",
       "      <td>180</td>\n",
       "      <td>80</td>\n",
       "      <td>0</td>\n",
       "      <td>2</td>\n",
       "      <td>0</td>\n",
       "      <td>110</td>\n",
       "      <td>70</td>\n",
       "    </tr>\n",
       "    <tr>\n",
       "      <th>2</th>\n",
       "      <td>Michael Johnson</td>\n",
       "      <td>55</td>\n",
       "      <td>1</td>\n",
       "      <td>180</td>\n",
       "      <td>85</td>\n",
       "      <td>130/85</td>\n",
       "      <td>220</td>\n",
       "      <td>95</td>\n",
       "      <td>1</td>\n",
       "      <td>4</td>\n",
       "      <td>1</td>\n",
       "      <td>130</td>\n",
       "      <td>85</td>\n",
       "    </tr>\n",
       "    <tr>\n",
       "      <th>3</th>\n",
       "      <td>Sarah Brown</td>\n",
       "      <td>40</td>\n",
       "      <td>0</td>\n",
       "      <td>165</td>\n",
       "      <td>70</td>\n",
       "      <td>115/75</td>\n",
       "      <td>190</td>\n",
       "      <td>85</td>\n",
       "      <td>0</td>\n",
       "      <td>3</td>\n",
       "      <td>0</td>\n",
       "      <td>115</td>\n",
       "      <td>75</td>\n",
       "    </tr>\n",
       "    <tr>\n",
       "      <th>4</th>\n",
       "      <td>David Lee</td>\n",
       "      <td>50</td>\n",
       "      <td>1</td>\n",
       "      <td>170</td>\n",
       "      <td>75</td>\n",
       "      <td>125/80</td>\n",
       "      <td>210</td>\n",
       "      <td>92</td>\n",
       "      <td>1</td>\n",
       "      <td>2</td>\n",
       "      <td>1</td>\n",
       "      <td>125</td>\n",
       "      <td>80</td>\n",
       "    </tr>\n",
       "  </tbody>\n",
       "</table>\n",
       "</div>"
      ],
      "text/plain": [
       "              Name  Age  Gender  Height(cm)  Weight(kg) Blood Pressure(mmHg)  \\\n",
       "0         John Doe   45       1         175          80               120/80   \n",
       "1       Jane Smith   35       0         160          65               110/70   \n",
       "2  Michael Johnson   55       1         180          85               130/85   \n",
       "3      Sarah Brown   40       0         165          70               115/75   \n",
       "4        David Lee   50       1         170          75               125/80   \n",
       "\n",
       "   Cholesterol(mg/dL)  Glucose(mg/dL)  Smoker  Exercise(hours/week)  \\\n",
       "0                 200              90       0                     3   \n",
       "1                 180              80       0                     2   \n",
       "2                 220              95       1                     4   \n",
       "3                 190              85       0                     3   \n",
       "4                 210              92       1                     2   \n",
       "\n",
       "   Heart Attack  Systolic pressure(mm/Hg)  Diastolic pressure(mm/Hg)  \n",
       "0             0                       120                         80  \n",
       "1             0                       110                         70  \n",
       "2             1                       130                         85  \n",
       "3             0                       115                         75  \n",
       "4             1                       125                         80  "
      ]
     },
     "execution_count": 15,
     "metadata": {},
     "output_type": "execute_result"
    }
   ],
   "source": [
    "#TOP 5 ROWS\n",
    "heart.head()"
   ]
  },
  {
   "cell_type": "code",
   "execution_count": 16,
   "id": "71a0e614",
   "metadata": {},
   "outputs": [
    {
     "data": {
      "image/png": "[encoded data removed]",
      "text/plain": [
       "<Figure size 1000x500 with 2 Axes>"
      ]
     },
     "metadata": {},
     "output_type": "display_data"
    }
   ],
   "source": [
    "#CORRELATIONS BETWWEEN NUMERIC COLUMNS \n",
    "plt.figure(figsize=(10,5))\n",
    "sns.heatmap(\n",
    "    heart[[\"Cholesterol(mg/dL)\", \"Glucose(mg/dL)\", \"Systolic pressure(mm/Hg)\",\n",
    "           \"Diastolic pressure(mm/Hg)\",\"Heart Attack\"]].corr(), annot=True);"
   ]
  },
  {
   "cell_type": "code",
   "execution_count": 17,
   "id": "dc33bcbe",
   "metadata": {},
   "outputs": [],
   "source": [
    "#IMPORTING DATA MODELLING TOOLS\n",
    "from sklearn.linear_model import LogisticRegression\n",
    "from sklearn.model_selection import train_test_split"
   ]
  },
  {
   "cell_type": "code",
   "execution_count": 18,
   "id": "f8800831",
   "metadata": {},
   "outputs": [
    {
     "data": {
      "text/html": [
       "<div>\n",
       "<style scoped>\n",
       "    .dataframe tbody tr th:only-of-type {\n",
       "        vertical-align: middle;\n",
       "    }\n",
       "\n",
       "    .dataframe tbody tr th {\n",
       "        vertical-align: top;\n",
       "    }\n",
       "\n",
       "    .dataframe thead th {\n",
       "        text-align: right;\n",
       "    }\n",
       "</style>\n",
       "<table border=\"1\" class=\"dataframe\">\n",
       "  <thead>\n",
       "    <tr style=\"text-align: right;\">\n",
       "      <th></th>\n",
       "      <th>Age</th>\n",
       "      <th>Gender</th>\n",
       "      <th>Height(cm)</th>\n",
       "      <th>Weight(kg)</th>\n",
       "      <th>Cholesterol(mg/dL)</th>\n",
       "      <th>Glucose(mg/dL)</th>\n",
       "      <th>Smoker</th>\n",
       "      <th>Exercise(hours/week)</th>\n",
       "      <th>Systolic pressure(mm/Hg)</th>\n",
       "      <th>Diastolic pressure(mm/Hg)</th>\n",
       "      <th>Heart Attack</th>\n",
       "    </tr>\n",
       "  </thead>\n",
       "  <tbody>\n",
       "    <tr>\n",
       "      <th>0</th>\n",
       "      <td>45</td>\n",
       "      <td>1</td>\n",
       "      <td>175</td>\n",
       "      <td>80</td>\n",
       "      <td>200</td>\n",
       "      <td>90</td>\n",
       "      <td>0</td>\n",
       "      <td>3</td>\n",
       "      <td>120</td>\n",
       "      <td>80</td>\n",
       "      <td>0</td>\n",
       "    </tr>\n",
       "    <tr>\n",
       "      <th>1</th>\n",
       "      <td>35</td>\n",
       "      <td>0</td>\n",
       "      <td>160</td>\n",
       "      <td>65</td>\n",
       "      <td>180</td>\n",
       "      <td>80</td>\n",
       "      <td>0</td>\n",
       "      <td>2</td>\n",
       "      <td>110</td>\n",
       "      <td>70</td>\n",
       "      <td>0</td>\n",
       "    </tr>\n",
       "    <tr>\n",
       "      <th>2</th>\n",
       "      <td>55</td>\n",
       "      <td>1</td>\n",
       "      <td>180</td>\n",
       "      <td>85</td>\n",
       "      <td>220</td>\n",
       "      <td>95</td>\n",
       "      <td>1</td>\n",
       "      <td>4</td>\n",
       "      <td>130</td>\n",
       "      <td>85</td>\n",
       "      <td>1</td>\n",
       "    </tr>\n",
       "    <tr>\n",
       "      <th>3</th>\n",
       "      <td>40</td>\n",
       "      <td>0</td>\n",
       "      <td>165</td>\n",
       "      <td>70</td>\n",
       "      <td>190</td>\n",
       "      <td>85</td>\n",
       "      <td>0</td>\n",
       "      <td>3</td>\n",
       "      <td>115</td>\n",
       "      <td>75</td>\n",
       "      <td>0</td>\n",
       "    </tr>\n",
       "    <tr>\n",
       "      <th>4</th>\n",
       "      <td>50</td>\n",
       "      <td>1</td>\n",
       "      <td>170</td>\n",
       "      <td>75</td>\n",
       "      <td>210</td>\n",
       "      <td>92</td>\n",
       "      <td>1</td>\n",
       "      <td>2</td>\n",
       "      <td>125</td>\n",
       "      <td>80</td>\n",
       "      <td>1</td>\n",
       "    </tr>\n",
       "  </tbody>\n",
       "</table>\n",
       "</div>"
      ],
      "text/plain": [
       "   Age  Gender  Height(cm)  Weight(kg)  Cholesterol(mg/dL)  Glucose(mg/dL)  \\\n",
       "0   45       1         175          80                 200              90   \n",
       "1   35       0         160          65                 180              80   \n",
       "2   55       1         180          85                 220              95   \n",
       "3   40       0         165          70                 190              85   \n",
       "4   50       1         170          75                 210              92   \n",
       "\n",
       "   Smoker  Exercise(hours/week)  Systolic pressure(mm/Hg)  \\\n",
       "0       0                     3                       120   \n",
       "1       0                     2                       110   \n",
       "2       1                     4                       130   \n",
       "3       0                     3                       115   \n",
       "4       1                     2                       125   \n",
       "\n",
       "   Diastolic pressure(mm/Hg)  Heart Attack  \n",
       "0                         80             0  \n",
       "1                         70             0  \n",
       "2                         85             1  \n",
       "3                         75             0  \n",
       "4                         80             1  "
      ]
     },
     "execution_count": 18,
     "metadata": {},
     "output_type": "execute_result"
    }
   ],
   "source": [
    "#SELECTING COLUMNS FOR LOGISTIC REGRESSION\n",
    "health = heart[[\"Age\", \"Gender\", \"Height(cm)\", \"Weight(kg)\", \"Cholesterol(mg/dL)\", \"Glucose(mg/dL)\", \"Smoker\", \n",
    "                \"Exercise(hours/week)\",\"Systolic pressure(mm/Hg)\", \"Diastolic pressure(mm/Hg)\", \"Heart Attack\"]]\n",
    "health.head()"
   ]
  },
  {
   "cell_type": "code",
   "execution_count": 19,
   "id": "9c771ec8",
   "metadata": {},
   "outputs": [],
   "source": [
    "#CREATING FEATURE AND TARGET VARIABLES\n",
    "X = health[health.columns[:-1]].values\n",
    "y = health[health.columns[-1]].values"
   ]
  },
  {
   "cell_type": "code",
   "execution_count": 20,
   "id": "f42a4706",
   "metadata": {},
   "outputs": [],
   "source": [
    "#SPLITTING THE ROWS INTO TRAINING AND TEST SET\n",
    "X_train, X_test, y_train, y_test = train_test_split(X, y, test_size=0.4, random_state=0)"
   ]
  },
  {
   "cell_type": "code",
   "execution_count": 21,
   "id": "e3c4f02e",
   "metadata": {},
   "outputs": [],
   "source": [
    "from sklearn.preprocessing import StandardScaler"
   ]
  },
  {
   "cell_type": "code",
   "execution_count": 22,
   "id": "9505fa85",
   "metadata": {},
   "outputs": [],
   "source": [
    "#FITTING AND TRANSFORMING \n",
    "scaler = StandardScaler()\n",
    "X_train = scaler.fit_transform(X_train)\n",
    "X_test = scaler.transform(X_test)"
   ]
  },
  {
   "cell_type": "code",
   "execution_count": 23,
   "id": "ea36456d",
   "metadata": {},
   "outputs": [
    {
     "data": {
      "text/html": [
       "<style>#sk-container-id-1 {color: black;background-color: white;}#sk-container-id-1 pre{padding: 0;}#sk-container-id-1 div.sk-toggleable {background-color: white;}#sk-container-id-1 label.sk-toggleable__label {cursor: pointer;display: block;width: 100%;margin-bottom: 0;padding: 0.3em;box-sizing: border-box;text-align: center;}#sk-container-id-1 label.sk-toggleable__label-arrow:before {content: \"▸\";float: left;margin-right: 0.25em;color: #696969;}#sk-container-id-1 label.sk-toggleable__label-arrow:hover:before {color: black;}#sk-container-id-1 div.sk-estimator:hover label.sk-toggleable__label-arrow:before {color: black;}#sk-container-id-1 div.sk-toggleable__content {max-height: 0;max-width: 0;overflow: hidden;text-align: left;background-color: #f0f8ff;}#sk-container-id-1 div.sk-toggleable__content pre {margin: 0.2em;color: black;border-radius: 0.25em;background-color: #f0f8ff;}#sk-container-id-1 input.sk-toggleable__control:checked~div.sk-toggleable__content {max-height: 200px;max-width: 100%;overflow: auto;}#sk-container-id-1 input.sk-toggleable__control:checked~label.sk-toggleable__label-arrow:before {content: \"▾\";}#sk-container-id-1 div.sk-estimator input.sk-toggleable__control:checked~label.sk-toggleable__label {background-color: #d4ebff;}#sk-container-id-1 div.sk-label input.sk-toggleable__control:checked~label.sk-toggleable__label {background-color: #d4ebff;}#sk-container-id-1 input.sk-hidden--visually {border: 0;clip: rect(1px 1px 1px 1px);clip: rect(1px, 1px, 1px, 1px);height: 1px;margin: -1px;overflow: hidden;padding: 0;position: absolute;width: 1px;}#sk-container-id-1 div.sk-estimator {font-family: monospace;background-color: #f0f8ff;border: 1px dotted black;border-radius: 0.25em;box-sizing: border-box;margin-bottom: 0.5em;}#sk-container-id-1 div.sk-estimator:hover {background-color: #d4ebff;}#sk-container-id-1 div.sk-parallel-item::after {content: \"\";width: 100%;border-bottom: 1px solid gray;flex-grow: 1;}#sk-container-id-1 div.sk-label:hover label.sk-toggleable__label {background-color: #d4ebff;}#sk-container-id-1 div.sk-serial::before {content: \"\";position: absolute;border-left: 1px solid gray;box-sizing: border-box;top: 0;bottom: 0;left: 50%;z-index: 0;}#sk-container-id-1 div.sk-serial {display: flex;flex-direction: column;align-items: center;background-color: white;padding-right: 0.2em;padding-left: 0.2em;position: relative;}#sk-container-id-1 div.sk-item {position: relative;z-index: 1;}#sk-container-id-1 div.sk-parallel {display: flex;align-items: stretch;justify-content: center;background-color: white;position: relative;}#sk-container-id-1 div.sk-item::before, #sk-container-id-1 div.sk-parallel-item::before {content: \"\";position: absolute;border-left: 1px solid gray;box-sizing: border-box;top: 0;bottom: 0;left: 50%;z-index: -1;}#sk-container-id-1 div.sk-parallel-item {display: flex;flex-direction: column;z-index: 1;position: relative;background-color: white;}#sk-container-id-1 div.sk-parallel-item:first-child::after {align-self: flex-end;width: 50%;}#sk-container-id-1 div.sk-parallel-item:last-child::after {align-self: flex-start;width: 50%;}#sk-container-id-1 div.sk-parallel-item:only-child::after {width: 0;}#sk-container-id-1 div.sk-dashed-wrapped {border: 1px dashed gray;margin: 0 0.4em 0.5em 0.4em;box-sizing: border-box;padding-bottom: 0.4em;background-color: white;}#sk-container-id-1 div.sk-label label {font-family: monospace;font-weight: bold;display: inline-block;line-height: 1.2em;}#sk-container-id-1 div.sk-label-container {text-align: center;}#sk-container-id-1 div.sk-container {/* jupyter's `normalize.less` sets `[hidden] { display: none; }` but bootstrap.min.css set `[hidden] { display: none !important; }` so we also need the `!important` here to be able to override the default hidden behavior on the sphinx rendered scikit-learn.org. See: https://github.com/scikit-learn/scikit-learn/issues/21755 */display: inline-block !important;position: relative;}#sk-container-id-1 div.sk-text-repr-fallback {display: none;}</style><div id=\"sk-container-id-1\" class=\"sk-top-container\"><div class=\"sk-text-repr-fallback\"><pre>LogisticRegression()</pre><b>In a Jupyter environment, please rerun this cell to show the HTML representation or trust the notebook. <br />On GitHub, the HTML representation is unable to render, please try loading this page with nbviewer.org.</b></div><div class=\"sk-container\" hidden><div class=\"sk-item\"><div class=\"sk-estimator sk-toggleable\"><input class=\"sk-toggleable__control sk-hidden--visually\" id=\"sk-estimator-id-1\" type=\"checkbox\" checked><label for=\"sk-estimator-id-1\" class=\"sk-toggleable__label sk-toggleable__label-arrow\">LogisticRegression</label><div class=\"sk-toggleable__content\"><pre>LogisticRegression()</pre></div></div></div></div></div>"
      ],
      "text/plain": [
       "LogisticRegression()"
      ]
     },
     "execution_count": 23,
     "metadata": {},
     "output_type": "execute_result"
    }
   ],
   "source": [
    "#CREATING THE MODEL\n",
    "lr_model = LogisticRegression()\n",
    "lr_model.fit(X_train, y_train)"
   ]
  },
  {
   "cell_type": "code",
   "execution_count": 24,
   "id": "d620830b",
   "metadata": {},
   "outputs": [
    {
     "data": {
      "text/plain": [
       "array([1, 0, 1, 0, 1, 1, 0, 0, 1, 1, 1, 1, 1, 0, 1, 1, 1, 1, 0, 0, 1, 1,\n",
       "       0, 0, 0, 1, 1, 0, 1, 1, 0, 1, 0, 0, 0, 1, 1, 1, 0, 1, 1, 0, 1, 1,\n",
       "       1, 0, 0, 1, 0, 0, 1, 0, 0, 0, 1, 0, 0, 1, 0, 1, 1, 0, 1, 0, 1, 1,\n",
       "       0, 1, 0, 1, 1, 0, 0, 1, 1, 1, 1, 0, 1, 1, 0, 1, 1, 0, 1, 1, 1, 1,\n",
       "       0, 0, 0, 0, 0, 0, 1, 0, 1, 1, 0, 1, 0, 0, 0, 0, 1, 0, 0],\n",
       "      dtype=int64)"
      ]
     },
     "execution_count": 24,
     "metadata": {},
     "output_type": "execute_result"
    }
   ],
   "source": [
    "#PREDICTING FROM THE TRAINING SET\n",
    "y_pred_train = lr_model.predict(X_train)\n",
    "y_pred_train"
   ]
  },
  {
   "cell_type": "code",
   "execution_count": 25,
   "id": "087c77e6",
   "metadata": {},
   "outputs": [],
   "source": [
    "from sklearn.metrics import r2_score"
   ]
  },
  {
   "cell_type": "code",
   "execution_count": 26,
   "id": "400b29ea",
   "metadata": {},
   "outputs": [
    {
     "data": {
      "text/plain": [
       "0.9249122807017545"
      ]
     },
     "execution_count": 26,
     "metadata": {},
     "output_type": "execute_result"
    }
   ],
   "source": [
    "#GIVES INFO ON HOW WELL THE MODEL FIT\n",
    "r2_score(y_train, y_pred_train)"
   ]
  },
  {
   "cell_type": "code",
   "execution_count": 27,
   "id": "7265791c",
   "metadata": {},
   "outputs": [
    {
     "data": {
      "text/plain": [
       "array([1, 0, 0, 0, 1, 1, 1, 1, 1, 1, 0, 0, 0, 0, 1, 1, 0, 1, 0, 0, 1, 1,\n",
       "       0, 1, 0, 0, 1, 1, 0, 0, 1, 1, 0, 0, 1, 1, 0, 1, 0, 1, 1, 1, 1, 1,\n",
       "       1, 1, 0, 1, 1, 1, 1, 0, 1, 1, 1, 1, 1, 0, 1, 1, 1, 0, 0, 0, 1, 0,\n",
       "       1, 1, 1, 1, 0, 0], dtype=int64)"
      ]
     },
     "execution_count": 27,
     "metadata": {},
     "output_type": "execute_result"
    }
   ],
   "source": [
    "#PREDICTING HOW WELL THE MODEL WWORKS ON THE TEST SET\n",
    "y_pred_test = lr_model.predict(X_test)\n",
    "y_pred_test"
   ]
  },
  {
   "cell_type": "code",
   "execution_count": 28,
   "id": "14c52e6f",
   "metadata": {},
   "outputs": [
    {
     "data": {
      "text/plain": [
       "1.0"
      ]
     },
     "execution_count": 28,
     "metadata": {},
     "output_type": "execute_result"
    }
   ],
   "source": [
    "r2_score(y_test, y_pred_test)"
   ]
  },
  {
   "cell_type": "code",
   "execution_count": null,
   "id": "6805d591",
   "metadata": {},
   "outputs": [],
   "source": []
  }
 ],
 "metadata": {
  "kernelspec": {
   "display_name": "Python 3 (ipykernel)",
   "language": "python",
   "name": "python3"
  },
  "language_info": {
   "codemirror_mode": {
    "name": "ipython",
    "version": 3
   },
   "file_extension": ".py",
   "mimetype": "text/x-python",
   "name": "python",
   "nbconvert_exporter": "python",
   "pygments_lexer": "ipython3",
   "version": "3.10.9"
  }
 },
 "nbformat": 4,
 "nbformat_minor": 5
}
