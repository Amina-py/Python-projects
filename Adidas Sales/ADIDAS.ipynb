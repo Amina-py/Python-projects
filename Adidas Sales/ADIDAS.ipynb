{
 "cells": [
  {
   "cell_type": "markdown",
   "id": "44ce67a7",
   "metadata": {},
   "source": [
    "# ADIDAS SALES ANALYSIS "
   ]
  },
  {
   "cell_type": "code",
   "execution_count": 1,
   "id": "2bf2c20c",
   "metadata": {},
   "outputs": [],
   "source": [
    "#IMPORTING THE NECESSARY LIBRARIES\n",
    "import pandas as pd\n",
    "import numpy as np\n",
    "import seaborn as sns\n",
    "import matplotlib.pyplot as plt"
   ]
  },
  {
   "cell_type": "code",
   "execution_count": 2,
   "id": "a370a426",
   "metadata": {},
   "outputs": [],
   "source": [
    "#IMPPORTING THE DATASET USING PANDAS\n",
    "adidas = pd.read_excel(\"Adidas US Sales Dataset ..xlsx\", parse_dates=[\"Invoice Date\"])"
   ]
  },
  {
   "cell_type": "code",
   "execution_count": 3,
   "id": "ba0411c8",
   "metadata": {},
   "outputs": [
    {
     "data": {
      "text/html": [
       "<div>\n",
       "<style scoped>\n",
       "    .dataframe tbody tr th:only-of-type {\n",
       "        vertical-align: middle;\n",
       "    }\n",
       "\n",
       "    .dataframe tbody tr th {\n",
       "        vertical-align: top;\n",
       "    }\n",
       "\n",
       "    .dataframe thead th {\n",
       "        text-align: right;\n",
       "    }\n",
       "</style>\n",
       "<table border=\"1\" class=\"dataframe\">\n",
       "  <thead>\n",
       "    <tr style=\"text-align: right;\">\n",
       "      <th></th>\n",
       "      <th>Unnamed: 0</th>\n",
       "      <th>Retailer</th>\n",
       "      <th>Retailer ID</th>\n",
       "      <th>Invoice Date</th>\n",
       "      <th>Region</th>\n",
       "      <th>State</th>\n",
       "      <th>City</th>\n",
       "      <th>Product</th>\n",
       "      <th>Price per Unit</th>\n",
       "      <th>Units Sold</th>\n",
       "      <th>Total Sales</th>\n",
       "      <th>Operating Profit</th>\n",
       "      <th>Operating Margin</th>\n",
       "      <th>Sales Method</th>\n",
       "    </tr>\n",
       "  </thead>\n",
       "  <tbody>\n",
       "    <tr>\n",
       "      <th>0</th>\n",
       "      <td>NaN</td>\n",
       "      <td>Foot Locker</td>\n",
       "      <td>1185732</td>\n",
       "      <td>2020-01-01</td>\n",
       "      <td>Northeast</td>\n",
       "      <td>New York</td>\n",
       "      <td>New York</td>\n",
       "      <td>Men's Street Footwear</td>\n",
       "      <td>50.0</td>\n",
       "      <td>1200</td>\n",
       "      <td>600000.0</td>\n",
       "      <td>300000.0</td>\n",
       "      <td>0.50</td>\n",
       "      <td>In-store</td>\n",
       "    </tr>\n",
       "    <tr>\n",
       "      <th>1</th>\n",
       "      <td>NaN</td>\n",
       "      <td>Foot Locker</td>\n",
       "      <td>1185732</td>\n",
       "      <td>2020-01-02</td>\n",
       "      <td>Northeast</td>\n",
       "      <td>New York</td>\n",
       "      <td>New York</td>\n",
       "      <td>Men's Athletic Footwear</td>\n",
       "      <td>50.0</td>\n",
       "      <td>1000</td>\n",
       "      <td>500000.0</td>\n",
       "      <td>150000.0</td>\n",
       "      <td>0.30</td>\n",
       "      <td>In-store</td>\n",
       "    </tr>\n",
       "    <tr>\n",
       "      <th>2</th>\n",
       "      <td>NaN</td>\n",
       "      <td>Foot Locker</td>\n",
       "      <td>1185732</td>\n",
       "      <td>2020-01-03</td>\n",
       "      <td>Northeast</td>\n",
       "      <td>New York</td>\n",
       "      <td>New York</td>\n",
       "      <td>Women's Street Footwear</td>\n",
       "      <td>40.0</td>\n",
       "      <td>1000</td>\n",
       "      <td>400000.0</td>\n",
       "      <td>140000.0</td>\n",
       "      <td>0.35</td>\n",
       "      <td>In-store</td>\n",
       "    </tr>\n",
       "    <tr>\n",
       "      <th>3</th>\n",
       "      <td>NaN</td>\n",
       "      <td>Foot Locker</td>\n",
       "      <td>1185732</td>\n",
       "      <td>2020-01-04</td>\n",
       "      <td>Northeast</td>\n",
       "      <td>New York</td>\n",
       "      <td>New York</td>\n",
       "      <td>Women's Athletic Footwear</td>\n",
       "      <td>45.0</td>\n",
       "      <td>850</td>\n",
       "      <td>382500.0</td>\n",
       "      <td>133875.0</td>\n",
       "      <td>0.35</td>\n",
       "      <td>In-store</td>\n",
       "    </tr>\n",
       "    <tr>\n",
       "      <th>4</th>\n",
       "      <td>NaN</td>\n",
       "      <td>Foot Locker</td>\n",
       "      <td>1185732</td>\n",
       "      <td>2020-01-05</td>\n",
       "      <td>Northeast</td>\n",
       "      <td>New York</td>\n",
       "      <td>New York</td>\n",
       "      <td>Men's Apparel</td>\n",
       "      <td>60.0</td>\n",
       "      <td>900</td>\n",
       "      <td>540000.0</td>\n",
       "      <td>162000.0</td>\n",
       "      <td>0.30</td>\n",
       "      <td>In-store</td>\n",
       "    </tr>\n",
       "  </tbody>\n",
       "</table>\n",
       "</div>"
      ],
      "text/plain": [
       "   Unnamed: 0     Retailer  Retailer ID Invoice Date     Region     State  \\\n",
       "0         NaN  Foot Locker      1185732   2020-01-01  Northeast  New York   \n",
       "1         NaN  Foot Locker      1185732   2020-01-02  Northeast  New York   \n",
       "2         NaN  Foot Locker      1185732   2020-01-03  Northeast  New York   \n",
       "3         NaN  Foot Locker      1185732   2020-01-04  Northeast  New York   \n",
       "4         NaN  Foot Locker      1185732   2020-01-05  Northeast  New York   \n",
       "\n",
       "       City                    Product  Price per Unit  Units Sold  \\\n",
       "0  New York      Men's Street Footwear            50.0        1200   \n",
       "1  New York    Men's Athletic Footwear            50.0        1000   \n",
       "2  New York    Women's Street Footwear            40.0        1000   \n",
       "3  New York  Women's Athletic Footwear            45.0         850   \n",
       "4  New York              Men's Apparel            60.0         900   \n",
       "\n",
       "   Total Sales  Operating Profit  Operating Margin Sales Method  \n",
       "0     600000.0          300000.0              0.50     In-store  \n",
       "1     500000.0          150000.0              0.30     In-store  \n",
       "2     400000.0          140000.0              0.35     In-store  \n",
       "3     382500.0          133875.0              0.35     In-store  \n",
       "4     540000.0          162000.0              0.30     In-store  "
      ]
     },
     "execution_count": 3,
     "metadata": {},
     "output_type": "execute_result"
    }
   ],
   "source": [
    "#TOP 5 ROWS\n",
    "adidas.head()"
   ]
  },
  {
   "cell_type": "code",
   "execution_count": 4,
   "id": "ed04bb8f",
   "metadata": {},
   "outputs": [],
   "source": [
    "#REMOVING THE UNNECESSARY COLUMN\n",
    "adidas.drop(columns=\"Unnamed: 0\", inplace=True)"
   ]
  },
  {
   "cell_type": "code",
   "execution_count": 5,
   "id": "0e871b24",
   "metadata": {},
   "outputs": [
    {
     "data": {
      "text/plain": [
       "Index(['Retailer', 'Retailer ID', 'Invoice Date', 'Region', 'State', 'City',\n",
       "       'Product', 'Price per Unit', 'Units Sold', 'Total Sales',\n",
       "       'Operating Profit', 'Operating Margin', 'Sales Method'],\n",
       "      dtype='object')"
      ]
     },
     "execution_count": 5,
     "metadata": {},
     "output_type": "execute_result"
    }
   ],
   "source": [
    "#LIST OF THE COLUMN NAMES\n",
    "adidas.columns"
   ]
  },
  {
   "cell_type": "code",
   "execution_count": 6,
   "id": "6551eabd",
   "metadata": {},
   "outputs": [
    {
     "data": {
      "text/plain": [
       "(9648, 13)"
      ]
     },
     "execution_count": 6,
     "metadata": {},
     "output_type": "execute_result"
    }
   ],
   "source": [
    "#NUMBER OF ROWS AND COLUMN OF THE DATASET\n",
    "adidas.shape"
   ]
  },
  {
   "cell_type": "code",
   "execution_count": 7,
   "id": "507a9705",
   "metadata": {},
   "outputs": [
    {
     "name": "stdout",
     "output_type": "stream",
     "text": [
      "<class 'pandas.core.frame.DataFrame'>\n",
      "RangeIndex: 9648 entries, 0 to 9647\n",
      "Data columns (total 13 columns):\n",
      " #   Column            Non-Null Count  Dtype         \n",
      "---  ------            --------------  -----         \n",
      " 0   Retailer          9648 non-null   object        \n",
      " 1   Retailer ID       9648 non-null   int64         \n",
      " 2   Invoice Date      9648 non-null   datetime64[ns]\n",
      " 3   Region            9648 non-null   object        \n",
      " 4   State             9648 non-null   object        \n",
      " 5   City              9648 non-null   object        \n",
      " 6   Product           9648 non-null   object        \n",
      " 7   Price per Unit    9648 non-null   float64       \n",
      " 8   Units Sold        9648 non-null   int64         \n",
      " 9   Total Sales       9648 non-null   float64       \n",
      " 10  Operating Profit  9648 non-null   float64       \n",
      " 11  Operating Margin  9648 non-null   float64       \n",
      " 12  Sales Method      9648 non-null   object        \n",
      "dtypes: datetime64[ns](1), float64(4), int64(2), object(6)\n",
      "memory usage: 980.0+ KB\n"
     ]
    }
   ],
   "source": [
    "#CHECKING INFO OF THE DATASET\n",
    "adidas.info()"
   ]
  },
  {
   "cell_type": "code",
   "execution_count": 8,
   "id": "85bcf59a",
   "metadata": {},
   "outputs": [
    {
     "data": {
      "text/plain": [
       "0"
      ]
     },
     "execution_count": 8,
     "metadata": {},
     "output_type": "execute_result"
    }
   ],
   "source": [
    "#CHECKING FOR DUPLICATES\n",
    "adidas.duplicated().sum()"
   ]
  },
  {
   "cell_type": "code",
   "execution_count": 9,
   "id": "e4efc644",
   "metadata": {},
   "outputs": [
    {
     "data": {
      "text/html": [
       "<div>\n",
       "<style scoped>\n",
       "    .dataframe tbody tr th:only-of-type {\n",
       "        vertical-align: middle;\n",
       "    }\n",
       "\n",
       "    .dataframe tbody tr th {\n",
       "        vertical-align: top;\n",
       "    }\n",
       "\n",
       "    .dataframe thead th {\n",
       "        text-align: right;\n",
       "    }\n",
       "</style>\n",
       "<table border=\"1\" class=\"dataframe\">\n",
       "  <thead>\n",
       "    <tr style=\"text-align: right;\">\n",
       "      <th></th>\n",
       "      <th>Retailer ID</th>\n",
       "      <th>Price per Unit</th>\n",
       "      <th>Units Sold</th>\n",
       "      <th>Total Sales</th>\n",
       "      <th>Operating Profit</th>\n",
       "      <th>Operating Margin</th>\n",
       "    </tr>\n",
       "  </thead>\n",
       "  <tbody>\n",
       "    <tr>\n",
       "      <th>count</th>\n",
       "      <td>9.648000e+03</td>\n",
       "      <td>9648.000000</td>\n",
       "      <td>9648.000000</td>\n",
       "      <td>9648.000000</td>\n",
       "      <td>9648.000000</td>\n",
       "      <td>9648.000000</td>\n",
       "    </tr>\n",
       "    <tr>\n",
       "      <th>mean</th>\n",
       "      <td>1.173850e+06</td>\n",
       "      <td>45.216625</td>\n",
       "      <td>256.930037</td>\n",
       "      <td>93273.437500</td>\n",
       "      <td>34425.244761</td>\n",
       "      <td>0.422991</td>\n",
       "    </tr>\n",
       "    <tr>\n",
       "      <th>std</th>\n",
       "      <td>2.636038e+04</td>\n",
       "      <td>14.705397</td>\n",
       "      <td>214.252030</td>\n",
       "      <td>141916.016727</td>\n",
       "      <td>54193.113713</td>\n",
       "      <td>0.097197</td>\n",
       "    </tr>\n",
       "    <tr>\n",
       "      <th>min</th>\n",
       "      <td>1.128299e+06</td>\n",
       "      <td>7.000000</td>\n",
       "      <td>0.000000</td>\n",
       "      <td>0.000000</td>\n",
       "      <td>0.000000</td>\n",
       "      <td>0.100000</td>\n",
       "    </tr>\n",
       "    <tr>\n",
       "      <th>25%</th>\n",
       "      <td>1.185732e+06</td>\n",
       "      <td>35.000000</td>\n",
       "      <td>106.000000</td>\n",
       "      <td>4254.500000</td>\n",
       "      <td>1921.752500</td>\n",
       "      <td>0.350000</td>\n",
       "    </tr>\n",
       "    <tr>\n",
       "      <th>50%</th>\n",
       "      <td>1.185732e+06</td>\n",
       "      <td>45.000000</td>\n",
       "      <td>176.000000</td>\n",
       "      <td>9576.000000</td>\n",
       "      <td>4371.420000</td>\n",
       "      <td>0.410000</td>\n",
       "    </tr>\n",
       "    <tr>\n",
       "      <th>75%</th>\n",
       "      <td>1.185732e+06</td>\n",
       "      <td>55.000000</td>\n",
       "      <td>350.000000</td>\n",
       "      <td>150000.000000</td>\n",
       "      <td>52062.500000</td>\n",
       "      <td>0.490000</td>\n",
       "    </tr>\n",
       "    <tr>\n",
       "      <th>max</th>\n",
       "      <td>1.197831e+06</td>\n",
       "      <td>110.000000</td>\n",
       "      <td>1275.000000</td>\n",
       "      <td>825000.000000</td>\n",
       "      <td>390000.000000</td>\n",
       "      <td>0.800000</td>\n",
       "    </tr>\n",
       "  </tbody>\n",
       "</table>\n",
       "</div>"
      ],
      "text/plain": [
       "        Retailer ID  Price per Unit   Units Sold    Total Sales  \\\n",
       "count  9.648000e+03     9648.000000  9648.000000    9648.000000   \n",
       "mean   1.173850e+06       45.216625   256.930037   93273.437500   \n",
       "std    2.636038e+04       14.705397   214.252030  141916.016727   \n",
       "min    1.128299e+06        7.000000     0.000000       0.000000   \n",
       "25%    1.185732e+06       35.000000   106.000000    4254.500000   \n",
       "50%    1.185732e+06       45.000000   176.000000    9576.000000   \n",
       "75%    1.185732e+06       55.000000   350.000000  150000.000000   \n",
       "max    1.197831e+06      110.000000  1275.000000  825000.000000   \n",
       "\n",
       "       Operating Profit  Operating Margin  \n",
       "count       9648.000000       9648.000000  \n",
       "mean       34425.244761          0.422991  \n",
       "std        54193.113713          0.097197  \n",
       "min            0.000000          0.100000  \n",
       "25%         1921.752500          0.350000  \n",
       "50%         4371.420000          0.410000  \n",
       "75%        52062.500000          0.490000  \n",
       "max       390000.000000          0.800000  "
      ]
     },
     "execution_count": 9,
     "metadata": {},
     "output_type": "execute_result"
    }
   ],
   "source": [
    "#DESCRIPTIVE SUMMARY OF THE NUMERIC COLUMNS\n",
    "adidas.describe()"
   ]
  },
  {
   "cell_type": "code",
   "execution_count": 10,
   "id": "7d76f8f3",
   "metadata": {},
   "outputs": [],
   "source": [
    "#CONVERTING THE COLUMNS FROM FLOAT TO INTEGER DATA TYPE\n",
    "adidas[\"Price per Unit\"] = adidas[\"Price per Unit\"].astype(\"int32\")\n",
    "adidas[\"Total Sales\"] = adidas[\"Total Sales\"].astype(\"int32\")\n",
    "adidas[\"Operating Profit\"] = adidas[\"Operating Profit\"].astype(\"int32\")"
   ]
  },
  {
   "cell_type": "code",
   "execution_count": 11,
   "id": "08de133c",
   "metadata": {},
   "outputs": [],
   "source": [
    "#CREATING A MONTH COLUMN\n",
    "adidas[\"Month\"] = adidas[\"Invoice Date\"].dt.month_name()\n",
    "adidas[\"Month no\"] = adidas[\"Invoice Date\"].dt.month"
   ]
  },
  {
   "cell_type": "markdown",
   "id": "f723e7ec",
   "metadata": {},
   "source": [
    "## UNIVARIATE ANALYSIS "
   ]
  },
  {
   "cell_type": "code",
   "execution_count": 12,
   "id": "afd9e954",
   "metadata": {},
   "outputs": [
    {
     "data": {
      "text/html": [
       "<div>\n",
       "<style scoped>\n",
       "    .dataframe tbody tr th:only-of-type {\n",
       "        vertical-align: middle;\n",
       "    }\n",
       "\n",
       "    .dataframe tbody tr th {\n",
       "        vertical-align: top;\n",
       "    }\n",
       "\n",
       "    .dataframe thead th {\n",
       "        text-align: right;\n",
       "    }\n",
       "</style>\n",
       "<table border=\"1\" class=\"dataframe\">\n",
       "  <thead>\n",
       "    <tr style=\"text-align: right;\">\n",
       "      <th></th>\n",
       "      <th>Retailer</th>\n",
       "      <th>Frequency</th>\n",
       "    </tr>\n",
       "  </thead>\n",
       "  <tbody>\n",
       "    <tr>\n",
       "      <th>0</th>\n",
       "      <td>Foot Locker</td>\n",
       "      <td>2637</td>\n",
       "    </tr>\n",
       "    <tr>\n",
       "      <th>1</th>\n",
       "      <td>West Gear</td>\n",
       "      <td>2374</td>\n",
       "    </tr>\n",
       "    <tr>\n",
       "      <th>2</th>\n",
       "      <td>Sports Direct</td>\n",
       "      <td>2032</td>\n",
       "    </tr>\n",
       "    <tr>\n",
       "      <th>3</th>\n",
       "      <td>Kohl's</td>\n",
       "      <td>1030</td>\n",
       "    </tr>\n",
       "    <tr>\n",
       "      <th>4</th>\n",
       "      <td>Amazon</td>\n",
       "      <td>949</td>\n",
       "    </tr>\n",
       "    <tr>\n",
       "      <th>5</th>\n",
       "      <td>Walmart</td>\n",
       "      <td>626</td>\n",
       "    </tr>\n",
       "  </tbody>\n",
       "</table>\n",
       "</div>"
      ],
      "text/plain": [
       "        Retailer  Frequency\n",
       "0    Foot Locker       2637\n",
       "1      West Gear       2374\n",
       "2  Sports Direct       2032\n",
       "3         Kohl's       1030\n",
       "4         Amazon        949\n",
       "5        Walmart        626"
      ]
     },
     "execution_count": 12,
     "metadata": {},
     "output_type": "execute_result"
    }
   ],
   "source": [
    "#COUNT OF EACH UNIQUE VALUE IN RETAILER COLUMN\n",
    "retailer = adidas[\"Retailer\"].value_counts().reset_index()\n",
    "retailer = retailer.rename(columns={\"index\":\"Retailer\", \"Retailer\":\"Frequency\"})\n",
    "retailer"
   ]
  },
  {
   "cell_type": "code",
   "execution_count": 13,
   "id": "3e835378",
   "metadata": {},
   "outputs": [
    {
     "data": {
      "image/png": "[encoded data removed]",
      "text/plain": [
       "<Figure size 1000x500 with 1 Axes>"
      ]
     },
     "metadata": {},
     "output_type": "display_data"
    }
   ],
   "source": [
    "#PLOTTING OF THE RETAILER COLUMN\n",
    "plt.figure(figsize=(10,5))\n",
    "palette = sns.color_palette(\"Greys_r\")\n",
    "sns.barplot(x=\"Retailer\", y=\"Frequency\", data=retailer,palette=palette)\n",
    "plt.title(\"Retailers Count\")\n",
    "plt.ylabel(\"Frequency\")\n",
    "plt.xlabel(\"Retailer\")\n",
    "plt.xticks(rotation=45)\n",
    "plt.show()"
   ]
  },
  {
   "cell_type": "code",
   "execution_count": 14,
   "id": "e7311c96",
   "metadata": {},
   "outputs": [
    {
     "data": {
      "text/html": [
       "<div>\n",
       "<style scoped>\n",
       "    .dataframe tbody tr th:only-of-type {\n",
       "        vertical-align: middle;\n",
       "    }\n",
       "\n",
       "    .dataframe tbody tr th {\n",
       "        vertical-align: top;\n",
       "    }\n",
       "\n",
       "    .dataframe thead th {\n",
       "        text-align: right;\n",
       "    }\n",
       "</style>\n",
       "<table border=\"1\" class=\"dataframe\">\n",
       "  <thead>\n",
       "    <tr style=\"text-align: right;\">\n",
       "      <th></th>\n",
       "      <th>Month</th>\n",
       "      <th>Month no</th>\n",
       "      <th>Count</th>\n",
       "    </tr>\n",
       "  </thead>\n",
       "  <tbody>\n",
       "    <tr>\n",
       "      <th>0</th>\n",
       "      <td>January</td>\n",
       "      <td>1</td>\n",
       "      <td>861</td>\n",
       "    </tr>\n",
       "    <tr>\n",
       "      <th>1</th>\n",
       "      <td>February</td>\n",
       "      <td>2</td>\n",
       "      <td>776</td>\n",
       "    </tr>\n",
       "    <tr>\n",
       "      <th>2</th>\n",
       "      <td>March</td>\n",
       "      <td>3</td>\n",
       "      <td>802</td>\n",
       "    </tr>\n",
       "    <tr>\n",
       "      <th>3</th>\n",
       "      <td>April</td>\n",
       "      <td>4</td>\n",
       "      <td>841</td>\n",
       "    </tr>\n",
       "    <tr>\n",
       "      <th>4</th>\n",
       "      <td>May</td>\n",
       "      <td>5</td>\n",
       "      <td>820</td>\n",
       "    </tr>\n",
       "    <tr>\n",
       "      <th>5</th>\n",
       "      <td>June</td>\n",
       "      <td>6</td>\n",
       "      <td>729</td>\n",
       "    </tr>\n",
       "    <tr>\n",
       "      <th>6</th>\n",
       "      <td>July</td>\n",
       "      <td>7</td>\n",
       "      <td>774</td>\n",
       "    </tr>\n",
       "    <tr>\n",
       "      <th>7</th>\n",
       "      <td>August</td>\n",
       "      <td>8</td>\n",
       "      <td>853</td>\n",
       "    </tr>\n",
       "    <tr>\n",
       "      <th>8</th>\n",
       "      <td>September</td>\n",
       "      <td>9</td>\n",
       "      <td>824</td>\n",
       "    </tr>\n",
       "    <tr>\n",
       "      <th>9</th>\n",
       "      <td>October</td>\n",
       "      <td>10</td>\n",
       "      <td>814</td>\n",
       "    </tr>\n",
       "    <tr>\n",
       "      <th>10</th>\n",
       "      <td>November</td>\n",
       "      <td>11</td>\n",
       "      <td>795</td>\n",
       "    </tr>\n",
       "    <tr>\n",
       "      <th>11</th>\n",
       "      <td>December</td>\n",
       "      <td>12</td>\n",
       "      <td>759</td>\n",
       "    </tr>\n",
       "  </tbody>\n",
       "</table>\n",
       "</div>"
      ],
      "text/plain": [
       "        Month  Month no  Count\n",
       "0     January         1    861\n",
       "1    February         2    776\n",
       "2       March         3    802\n",
       "3       April         4    841\n",
       "4         May         5    820\n",
       "5        June         6    729\n",
       "6        July         7    774\n",
       "7      August         8    853\n",
       "8   September         9    824\n",
       "9     October        10    814\n",
       "10   November        11    795\n",
       "11   December        12    759"
      ]
     },
     "execution_count": 14,
     "metadata": {},
     "output_type": "execute_result"
    }
   ],
   "source": [
    "#COUNT OF EACH UNIQUE VALUE IN MONTH COLUMN\n",
    "month = adidas[[\"Month\",\"Month no\"]].value_counts().reset_index().sort_values(by=\"Month no\")\n",
    "month.rename(columns ={0:\"Count\"}, inplace=True)\n",
    "month = month.reset_index()\n",
    "months = month.drop(columns=\"index\")\n",
    "months"
   ]
  },
  {
   "cell_type": "code",
   "execution_count": 15,
   "id": "08f55665",
   "metadata": {},
   "outputs": [
    {
     "data": {
      "image/png": "[encoded data removed]",
      "text/plain": [
       "<Figure size 1200x600 with 1 Axes>"
      ]
     },
     "metadata": {},
     "output_type": "display_data"
    }
   ],
   "source": [
    "#PLOTTING OF THE MONTH COLUMN\n",
    "plt.figure(figsize=(12,6))\n",
    "palette = sns.color_palette(\"Greys_r\")\n",
    "sns.barplot(x=\"Month\", y=\"Count\", data=months,palette=palette)\n",
    "plt.title(\"Invoice Month Count\")\n",
    "plt.ylabel(\"Frequency\")\n",
    "plt.xlabel(\"Month\")\n",
    "plt.xticks(rotation=45)\n",
    "plt.show()"
   ]
  },
  {
   "cell_type": "code",
   "execution_count": 16,
   "id": "6826ba98",
   "metadata": {},
   "outputs": [
    {
     "data": {
      "text/html": [
       "<div>\n",
       "<style scoped>\n",
       "    .dataframe tbody tr th:only-of-type {\n",
       "        vertical-align: middle;\n",
       "    }\n",
       "\n",
       "    .dataframe tbody tr th {\n",
       "        vertical-align: top;\n",
       "    }\n",
       "\n",
       "    .dataframe thead th {\n",
       "        text-align: right;\n",
       "    }\n",
       "</style>\n",
       "<table border=\"1\" class=\"dataframe\">\n",
       "  <thead>\n",
       "    <tr style=\"text-align: right;\">\n",
       "      <th></th>\n",
       "      <th>Region</th>\n",
       "      <th>Frequency</th>\n",
       "    </tr>\n",
       "  </thead>\n",
       "  <tbody>\n",
       "    <tr>\n",
       "      <th>0</th>\n",
       "      <td>West</td>\n",
       "      <td>2448</td>\n",
       "    </tr>\n",
       "    <tr>\n",
       "      <th>1</th>\n",
       "      <td>Northeast</td>\n",
       "      <td>2376</td>\n",
       "    </tr>\n",
       "    <tr>\n",
       "      <th>2</th>\n",
       "      <td>Midwest</td>\n",
       "      <td>1872</td>\n",
       "    </tr>\n",
       "    <tr>\n",
       "      <th>3</th>\n",
       "      <td>South</td>\n",
       "      <td>1728</td>\n",
       "    </tr>\n",
       "    <tr>\n",
       "      <th>4</th>\n",
       "      <td>Southeast</td>\n",
       "      <td>1224</td>\n",
       "    </tr>\n",
       "  </tbody>\n",
       "</table>\n",
       "</div>"
      ],
      "text/plain": [
       "      Region  Frequency\n",
       "0       West       2448\n",
       "1  Northeast       2376\n",
       "2    Midwest       1872\n",
       "3      South       1728\n",
       "4  Southeast       1224"
      ]
     },
     "execution_count": 16,
     "metadata": {},
     "output_type": "execute_result"
    }
   ],
   "source": [
    "#COUNT OF EACH UNIQUE VALUE IN REGION COLUMN\n",
    "region = adidas[\"Region\"].value_counts().reset_index()\n",
    "region = region.rename(columns={\"index\":\"Region\", \"Region\":\"Frequency\"})\n",
    "region"
   ]
  },
  {
   "cell_type": "code",
   "execution_count": 17,
   "id": "c6dea424",
   "metadata": {},
   "outputs": [
    {
     "data": {
      "image/png": "[encoded data removed]",
      "text/plain": [
       "<Figure size 1000x500 with 1 Axes>"
      ]
     },
     "metadata": {},
     "output_type": "display_data"
    }
   ],
   "source": [
    "#PLOT OF THE REGION COLUMN\n",
    "plt.figure(figsize=(10,5))\n",
    "palette = sns.color_palette(\"Greys_r\")\n",
    "sns.barplot(x=\"Region\", y=\"Frequency\", data=region,palette=palette)\n",
    "plt.title(\"Regions Count\")\n",
    "plt.ylabel(\"Frequency\")\n",
    "plt.xlabel(\"Region\")\n",
    "plt.xticks(rotation=45)\n",
    "plt.show()"
   ]
  },
  {
   "cell_type": "code",
   "execution_count": 18,
   "id": "952ca7b8",
   "metadata": {},
   "outputs": [
    {
     "data": {
      "text/html": [
       "<div>\n",
       "<style scoped>\n",
       "    .dataframe tbody tr th:only-of-type {\n",
       "        vertical-align: middle;\n",
       "    }\n",
       "\n",
       "    .dataframe tbody tr th {\n",
       "        vertical-align: top;\n",
       "    }\n",
       "\n",
       "    .dataframe thead th {\n",
       "        text-align: right;\n",
       "    }\n",
       "</style>\n",
       "<table border=\"1\" class=\"dataframe\">\n",
       "  <thead>\n",
       "    <tr style=\"text-align: right;\">\n",
       "      <th></th>\n",
       "      <th>Product</th>\n",
       "      <th>Frequency</th>\n",
       "    </tr>\n",
       "  </thead>\n",
       "  <tbody>\n",
       "    <tr>\n",
       "      <th>0</th>\n",
       "      <td>Men's Street Footwear</td>\n",
       "      <td>1610</td>\n",
       "    </tr>\n",
       "    <tr>\n",
       "      <th>1</th>\n",
       "      <td>Men's Athletic Footwear</td>\n",
       "      <td>1610</td>\n",
       "    </tr>\n",
       "    <tr>\n",
       "      <th>2</th>\n",
       "      <td>Women's Street Footwear</td>\n",
       "      <td>1608</td>\n",
       "    </tr>\n",
       "    <tr>\n",
       "      <th>3</th>\n",
       "      <td>Women's Apparel</td>\n",
       "      <td>1608</td>\n",
       "    </tr>\n",
       "    <tr>\n",
       "      <th>4</th>\n",
       "      <td>Women's Athletic Footwear</td>\n",
       "      <td>1606</td>\n",
       "    </tr>\n",
       "    <tr>\n",
       "      <th>5</th>\n",
       "      <td>Men's Apparel</td>\n",
       "      <td>1606</td>\n",
       "    </tr>\n",
       "  </tbody>\n",
       "</table>\n",
       "</div>"
      ],
      "text/plain": [
       "                     Product  Frequency\n",
       "0      Men's Street Footwear       1610\n",
       "1    Men's Athletic Footwear       1610\n",
       "2    Women's Street Footwear       1608\n",
       "3            Women's Apparel       1608\n",
       "4  Women's Athletic Footwear       1606\n",
       "5              Men's Apparel       1606"
      ]
     },
     "execution_count": 18,
     "metadata": {},
     "output_type": "execute_result"
    }
   ],
   "source": [
    "#COUNT OF EACH UNIQUE VALUE IN PRODUCT COLUMN\n",
    "product = adidas[\"Product\"].value_counts().reset_index()\n",
    "product = product.rename(columns={\"index\":\"Product\", \"Product\":\"Frequency\"})\n",
    "product"
   ]
  },
  {
   "cell_type": "code",
   "execution_count": 19,
   "id": "7801c5d8",
   "metadata": {},
   "outputs": [
    {
     "data": {
      "image/png": "[encoded data removed]",
      "text/plain": [
       "<Figure size 500x500 with 1 Axes>"
      ]
     },
     "metadata": {},
     "output_type": "display_data"
    }
   ],
   "source": [
    "#CHECKING THE PRESENCE OF OUTLIERS USING A BOXPLOT\n",
    "plt.figure(figsize=(5,5))\n",
    "sns.boxplot(adidas[\"Price per Unit\"], color=\"grey\")\n",
    "plt.title(\"Price Distribution\")\n",
    "plt.xlabel(\"Price per Unit\")\n",
    "plt.ylabel(\"Frequency\")\n",
    "plt.show()"
   ]
  },
  {
   "cell_type": "code",
   "execution_count": 20,
   "id": "ac495638",
   "metadata": {},
   "outputs": [
    {
     "data": {
      "image/png": "[encoded data removed]",
      "text/plain": [
       "<Figure size 640x480 with 1 Axes>"
      ]
     },
     "metadata": {},
     "output_type": "display_data"
    }
   ],
   "source": [
    "#HISTOGRAM SHOWING THE DISTRIBUTION OF \"UNIT SOLD\" COLUMN\n",
    "sns.histplot(x=\"Units Sold\", data=adidas, bins=10, color=\"grey\")\n",
    "plt.title(\"Units Sold Distribution\")\n",
    "plt.show()"
   ]
  },
  {
   "cell_type": "code",
   "execution_count": 21,
   "id": "c92b7942",
   "metadata": {},
   "outputs": [
    {
     "data": {
      "text/plain": [
       "Online      4889\n",
       "Outlet      3019\n",
       "In-store    1740\n",
       "Name: Sales Method, dtype: int64"
      ]
     },
     "execution_count": 21,
     "metadata": {},
     "output_type": "execute_result"
    }
   ],
   "source": [
    "#COUNT OF EACH UNIQUE VALUE IN \"SALES METHOD\" COLUMN\n",
    "adidas[\"Sales Method\"].value_counts()"
   ]
  },
  {
   "cell_type": "markdown",
   "id": "5749815f",
   "metadata": {},
   "source": [
    "## INSIGHTS "
   ]
  },
  {
   "cell_type": "markdown",
   "id": "739c0d47",
   "metadata": {},
   "source": [
    "### MONTHLY TREND OF SALES"
   ]
  },
  {
   "cell_type": "code",
   "execution_count": 22,
   "id": "d757b37a",
   "metadata": {},
   "outputs": [
    {
     "data": {
      "image/png": "[encoded data removed]",
      "text/plain": [
       "<Figure size 1000x400 with 1 Axes>"
      ]
     },
     "metadata": {},
     "output_type": "display_data"
    }
   ],
   "source": [
    "plt.figure(figsize=(10,4))\n",
    "sns.lineplot(x=\"Month\", y=\"Count\", data=months,color=\"Black\", sort=False, marker=\".\", markersize=15)\n",
    "plt.title(\"Sales Monthly Trend\")\n",
    "plt.xticks(rotation=45)\n",
    "plt.show()"
   ]
  },
  {
   "cell_type": "markdown",
   "id": "8c18f7d5",
   "metadata": {},
   "source": [
    "### RETAILERS ANALYSIS"
   ]
  },
  {
   "cell_type": "code",
   "execution_count": 23,
   "id": "4713ea83",
   "metadata": {},
   "outputs": [
    {
     "data": {
      "text/html": [
       "<div>\n",
       "<style scoped>\n",
       "    .dataframe tbody tr th:only-of-type {\n",
       "        vertical-align: middle;\n",
       "    }\n",
       "\n",
       "    .dataframe tbody tr th {\n",
       "        vertical-align: top;\n",
       "    }\n",
       "\n",
       "    .dataframe thead th {\n",
       "        text-align: right;\n",
       "    }\n",
       "</style>\n",
       "<table border=\"1\" class=\"dataframe\">\n",
       "  <thead>\n",
       "    <tr style=\"text-align: right;\">\n",
       "      <th></th>\n",
       "      <th>Retailer</th>\n",
       "      <th>Product</th>\n",
       "      <th>Total Sales</th>\n",
       "    </tr>\n",
       "  </thead>\n",
       "  <tbody>\n",
       "    <tr>\n",
       "      <th>0</th>\n",
       "      <td>West Gear</td>\n",
       "      <td>Men's Apparel</td>\n",
       "      <td>33263920</td>\n",
       "    </tr>\n",
       "    <tr>\n",
       "      <th>1</th>\n",
       "      <td>Foot Locker</td>\n",
       "      <td>Men's Apparel</td>\n",
       "      <td>29508956</td>\n",
       "    </tr>\n",
       "    <tr>\n",
       "      <th>2</th>\n",
       "      <td>Sports Direct</td>\n",
       "      <td>Men's Apparel</td>\n",
       "      <td>24825263</td>\n",
       "    </tr>\n",
       "    <tr>\n",
       "      <th>3</th>\n",
       "      <td>Kohl's</td>\n",
       "      <td>Men's Apparel</td>\n",
       "      <td>14164953</td>\n",
       "    </tr>\n",
       "    <tr>\n",
       "      <th>4</th>\n",
       "      <td>Walmart</td>\n",
       "      <td>Men's Apparel</td>\n",
       "      <td>11490677</td>\n",
       "    </tr>\n",
       "    <tr>\n",
       "      <th>5</th>\n",
       "      <td>Amazon</td>\n",
       "      <td>Men's Apparel</td>\n",
       "      <td>10474760</td>\n",
       "    </tr>\n",
       "    <tr>\n",
       "      <th>6</th>\n",
       "      <td>West Gear</td>\n",
       "      <td>Men's Athletic Footwear</td>\n",
       "      <td>42805849</td>\n",
       "    </tr>\n",
       "    <tr>\n",
       "      <th>7</th>\n",
       "      <td>Foot Locker</td>\n",
       "      <td>Men's Athletic Footwear</td>\n",
       "      <td>36480412</td>\n",
       "    </tr>\n",
       "    <tr>\n",
       "      <th>8</th>\n",
       "      <td>Sports Direct</td>\n",
       "      <td>Men's Athletic Footwear</td>\n",
       "      <td>30889733</td>\n",
       "    </tr>\n",
       "    <tr>\n",
       "      <th>9</th>\n",
       "      <td>Kohl's</td>\n",
       "      <td>Men's Athletic Footwear</td>\n",
       "      <td>17885316</td>\n",
       "    </tr>\n",
       "    <tr>\n",
       "      <th>10</th>\n",
       "      <td>Walmart</td>\n",
       "      <td>Men's Athletic Footwear</td>\n",
       "      <td>13600404</td>\n",
       "    </tr>\n",
       "    <tr>\n",
       "      <th>11</th>\n",
       "      <td>Amazon</td>\n",
       "      <td>Men's Athletic Footwear</td>\n",
       "      <td>12011959</td>\n",
       "    </tr>\n",
       "    <tr>\n",
       "      <th>12</th>\n",
       "      <td>Foot Locker</td>\n",
       "      <td>Men's Street Footwear</td>\n",
       "      <td>57481548</td>\n",
       "    </tr>\n",
       "    <tr>\n",
       "      <th>13</th>\n",
       "      <td>West Gear</td>\n",
       "      <td>Men's Street Footwear</td>\n",
       "      <td>53165409</td>\n",
       "    </tr>\n",
       "    <tr>\n",
       "      <th>14</th>\n",
       "      <td>Sports Direct</td>\n",
       "      <td>Men's Street Footwear</td>\n",
       "      <td>38672248</td>\n",
       "    </tr>\n",
       "    <tr>\n",
       "      <th>15</th>\n",
       "      <td>Kohl's</td>\n",
       "      <td>Men's Street Footwear</td>\n",
       "      <td>22421064</td>\n",
       "    </tr>\n",
       "    <tr>\n",
       "      <th>16</th>\n",
       "      <td>Amazon</td>\n",
       "      <td>Men's Street Footwear</td>\n",
       "      <td>22161645</td>\n",
       "    </tr>\n",
       "    <tr>\n",
       "      <th>17</th>\n",
       "      <td>Walmart</td>\n",
       "      <td>Men's Street Footwear</td>\n",
       "      <td>14924253</td>\n",
       "    </tr>\n",
       "    <tr>\n",
       "      <th>18</th>\n",
       "      <td>West Gear</td>\n",
       "      <td>Women's Apparel</td>\n",
       "      <td>47287486</td>\n",
       "    </tr>\n",
       "    <tr>\n",
       "      <th>19</th>\n",
       "      <td>Foot Locker</td>\n",
       "      <td>Women's Apparel</td>\n",
       "      <td>43296080</td>\n",
       "    </tr>\n",
       "    <tr>\n",
       "      <th>20</th>\n",
       "      <td>Sports Direct</td>\n",
       "      <td>Women's Apparel</td>\n",
       "      <td>37113239</td>\n",
       "    </tr>\n",
       "    <tr>\n",
       "      <th>21</th>\n",
       "      <td>Kohl's</td>\n",
       "      <td>Women's Apparel</td>\n",
       "      <td>20315233</td>\n",
       "    </tr>\n",
       "    <tr>\n",
       "      <th>22</th>\n",
       "      <td>Amazon</td>\n",
       "      <td>Women's Apparel</td>\n",
       "      <td>15710637</td>\n",
       "    </tr>\n",
       "    <tr>\n",
       "      <th>23</th>\n",
       "      <td>Walmart</td>\n",
       "      <td>Women's Apparel</td>\n",
       "      <td>15316097</td>\n",
       "    </tr>\n",
       "    <tr>\n",
       "      <th>24</th>\n",
       "      <td>West Gear</td>\n",
       "      <td>Women's Athletic Footwear</td>\n",
       "      <td>30055057</td>\n",
       "    </tr>\n",
       "    <tr>\n",
       "      <th>25</th>\n",
       "      <td>Foot Locker</td>\n",
       "      <td>Women's Athletic Footwear</td>\n",
       "      <td>24239615</td>\n",
       "    </tr>\n",
       "    <tr>\n",
       "      <th>26</th>\n",
       "      <td>Sports Direct</td>\n",
       "      <td>Women's Athletic Footwear</td>\n",
       "      <td>23145280</td>\n",
       "    </tr>\n",
       "    <tr>\n",
       "      <th>27</th>\n",
       "      <td>Kohl's</td>\n",
       "      <td>Women's Athletic Footwear</td>\n",
       "      <td>12493867</td>\n",
       "    </tr>\n",
       "    <tr>\n",
       "      <th>28</th>\n",
       "      <td>Walmart</td>\n",
       "      <td>Women's Athletic Footwear</td>\n",
       "      <td>8762790</td>\n",
       "    </tr>\n",
       "    <tr>\n",
       "      <th>29</th>\n",
       "      <td>Amazon</td>\n",
       "      <td>Women's Athletic Footwear</td>\n",
       "      <td>7935246</td>\n",
       "    </tr>\n",
       "    <tr>\n",
       "      <th>30</th>\n",
       "      <td>West Gear</td>\n",
       "      <td>Women's Street Footwear</td>\n",
       "      <td>36386540</td>\n",
       "    </tr>\n",
       "    <tr>\n",
       "      <th>31</th>\n",
       "      <td>Foot Locker</td>\n",
       "      <td>Women's Street Footwear</td>\n",
       "      <td>29087995</td>\n",
       "    </tr>\n",
       "    <tr>\n",
       "      <th>32</th>\n",
       "      <td>Sports Direct</td>\n",
       "      <td>Women's Street Footwear</td>\n",
       "      <td>27825154</td>\n",
       "    </tr>\n",
       "    <tr>\n",
       "      <th>33</th>\n",
       "      <td>Kohl's</td>\n",
       "      <td>Women's Street Footwear</td>\n",
       "      <td>14834291</td>\n",
       "    </tr>\n",
       "    <tr>\n",
       "      <th>34</th>\n",
       "      <td>Walmart</td>\n",
       "      <td>Women's Street Footwear</td>\n",
       "      <td>10464180</td>\n",
       "    </tr>\n",
       "    <tr>\n",
       "      <th>35</th>\n",
       "      <td>Amazon</td>\n",
       "      <td>Women's Street Footwear</td>\n",
       "      <td>9404637</td>\n",
       "    </tr>\n",
       "  </tbody>\n",
       "</table>\n",
       "</div>"
      ],
      "text/plain": [
       "         Retailer                    Product  Total Sales\n",
       "0       West Gear              Men's Apparel     33263920\n",
       "1     Foot Locker              Men's Apparel     29508956\n",
       "2   Sports Direct              Men's Apparel     24825263\n",
       "3          Kohl's              Men's Apparel     14164953\n",
       "4         Walmart              Men's Apparel     11490677\n",
       "5          Amazon              Men's Apparel     10474760\n",
       "6       West Gear    Men's Athletic Footwear     42805849\n",
       "7     Foot Locker    Men's Athletic Footwear     36480412\n",
       "8   Sports Direct    Men's Athletic Footwear     30889733\n",
       "9          Kohl's    Men's Athletic Footwear     17885316\n",
       "10        Walmart    Men's Athletic Footwear     13600404\n",
       "11         Amazon    Men's Athletic Footwear     12011959\n",
       "12    Foot Locker      Men's Street Footwear     57481548\n",
       "13      West Gear      Men's Street Footwear     53165409\n",
       "14  Sports Direct      Men's Street Footwear     38672248\n",
       "15         Kohl's      Men's Street Footwear     22421064\n",
       "16         Amazon      Men's Street Footwear     22161645\n",
       "17        Walmart      Men's Street Footwear     14924253\n",
       "18      West Gear            Women's Apparel     47287486\n",
       "19    Foot Locker            Women's Apparel     43296080\n",
       "20  Sports Direct            Women's Apparel     37113239\n",
       "21         Kohl's            Women's Apparel     20315233\n",
       "22         Amazon            Women's Apparel     15710637\n",
       "23        Walmart            Women's Apparel     15316097\n",
       "24      West Gear  Women's Athletic Footwear     30055057\n",
       "25    Foot Locker  Women's Athletic Footwear     24239615\n",
       "26  Sports Direct  Women's Athletic Footwear     23145280\n",
       "27         Kohl's  Women's Athletic Footwear     12493867\n",
       "28        Walmart  Women's Athletic Footwear      8762790\n",
       "29         Amazon  Women's Athletic Footwear      7935246\n",
       "30      West Gear    Women's Street Footwear     36386540\n",
       "31    Foot Locker    Women's Street Footwear     29087995\n",
       "32  Sports Direct    Women's Street Footwear     27825154\n",
       "33         Kohl's    Women's Street Footwear     14834291\n",
       "34        Walmart    Women's Street Footwear     10464180\n",
       "35         Amazon    Women's Street Footwear      9404637"
      ]
     },
     "execution_count": 23,
     "metadata": {},
     "output_type": "execute_result"
    }
   ],
   "source": [
    "#TOTAL SALES FROM EACH PRODUCT BY RETAILERS\n",
    "top = adidas.groupby([\"Retailer\", \"Product\"])[\"Total Sales\"].sum().reset_index()\n",
    "top = top.sort_values(by=[\"Product\", \"Total Sales\"], ascending=[True, False])\n",
    "top = top.reset_index()\n",
    "top.drop(columns=\"index\", inplace=True)\n",
    "top"
   ]
  },
  {
   "cell_type": "code",
   "execution_count": 35,
   "id": "78732711",
   "metadata": {},
   "outputs": [
    {
     "data": {
      "image/png": "[encoded data removed]",
      "text/plain": [
       "<Figure size 1000x700 with 1 Axes>"
      ]
     },
     "metadata": {},
     "output_type": "display_data"
    }
   ],
   "source": [
    "plt.figure(figsize=(10,7))\n",
    "palette = sns.color_palette(\"Greys_r\")\n",
    "sns.barplot(y=\"Total Sales\", x=\"Product\", hue=\"Retailer\", data=top, palette=palette)\n",
    "plt.title(\"Retailer Total Sales by Products\")\n",
    "plt.ylabel(\"Average Sales\")\n",
    "plt.xticks(rotation=35)\n",
    "plt.show()"
   ]
  },
  {
   "cell_type": "code",
   "execution_count": 25,
   "id": "79ac1dbe",
   "metadata": {},
   "outputs": [
    {
     "data": {
      "text/plain": [
       "Retailer\n",
       "Amazon            77698884\n",
       "Foot Locker      220094606\n",
       "Kohl's           102114724\n",
       "Sports Direct    182470917\n",
       "Walmart           74558401\n",
       "West Gear        242964261\n",
       "Name: Total Sales, dtype: int32"
      ]
     },
     "execution_count": 25,
     "metadata": {},
     "output_type": "execute_result"
    }
   ],
   "source": [
    "#TOTAL SALES MADE BY EACH RETAILER\n",
    "adidas.groupby(\"Retailer\")[\"Total Sales\"].sum()"
   ]
  },
  {
   "cell_type": "code",
   "execution_count": 26,
   "id": "7703f107",
   "metadata": {},
   "outputs": [
    {
     "data": {
      "text/plain": [
       "Retailer       Sales Method\n",
       "Amazon         In-store         22366246\n",
       "               Online           28909720\n",
       "               Outlet           26422918\n",
       "Foot Locker    In-store         76524940\n",
       "               Online           72943270\n",
       "               Outlet           70626396\n",
       "Kohl's         In-store         29566234\n",
       "               Online           30992221\n",
       "               Outlet           41556269\n",
       "Sports Direct  In-store         55048455\n",
       "               Online           59225980\n",
       "               Outlet           68196482\n",
       "Walmart        In-store         16411249\n",
       "               Online           15069488\n",
       "               Outlet           43077664\n",
       "West Gear      In-store        156726441\n",
       "               Online           40532132\n",
       "               Outlet           45705688\n",
       "Name: Total Sales, dtype: int32"
      ]
     },
     "execution_count": 26,
     "metadata": {},
     "output_type": "execute_result"
    }
   ],
   "source": [
    "#SALES MADE FROM EACH SALES METHOD BY RETAILER\n",
    "adidas.groupby([\"Retailer\", \"Sales Method\"])[\"Total Sales\"].sum()"
   ]
  },
  {
   "cell_type": "markdown",
   "id": "5bc08773",
   "metadata": {},
   "source": [
    "\n",
    "### REGION ANALYSIS "
   ]
  },
  {
   "cell_type": "code",
   "execution_count": 27,
   "id": "d719c9b1",
   "metadata": {},
   "outputs": [
    {
     "data": {
      "text/html": [
       "<div>\n",
       "<style scoped>\n",
       "    .dataframe tbody tr th:only-of-type {\n",
       "        vertical-align: middle;\n",
       "    }\n",
       "\n",
       "    .dataframe tbody tr th {\n",
       "        vertical-align: top;\n",
       "    }\n",
       "\n",
       "    .dataframe thead th {\n",
       "        text-align: right;\n",
       "    }\n",
       "</style>\n",
       "<table border=\"1\" class=\"dataframe\">\n",
       "  <thead>\n",
       "    <tr style=\"text-align: right;\">\n",
       "      <th></th>\n",
       "      <th>Region</th>\n",
       "      <th>Total Sales</th>\n",
       "      <th>Operating Profit</th>\n",
       "    </tr>\n",
       "  </thead>\n",
       "  <tbody>\n",
       "    <tr>\n",
       "      <th>0</th>\n",
       "      <td>West</td>\n",
       "      <td>269943141</td>\n",
       "      <td>89608607</td>\n",
       "    </tr>\n",
       "    <tr>\n",
       "      <th>1</th>\n",
       "      <td>Northeast</td>\n",
       "      <td>186323951</td>\n",
       "      <td>68019764</td>\n",
       "    </tr>\n",
       "    <tr>\n",
       "      <th>2</th>\n",
       "      <td>South</td>\n",
       "      <td>144663146</td>\n",
       "      <td>61137379</td>\n",
       "    </tr>\n",
       "    <tr>\n",
       "      <th>3</th>\n",
       "      <td>Southeast</td>\n",
       "      <td>163171211</td>\n",
       "      <td>60555029</td>\n",
       "    </tr>\n",
       "    <tr>\n",
       "      <th>4</th>\n",
       "      <td>Midwest</td>\n",
       "      <td>135800344</td>\n",
       "      <td>52810769</td>\n",
       "    </tr>\n",
       "  </tbody>\n",
       "</table>\n",
       "</div>"
      ],
      "text/plain": [
       "      Region  Total Sales  Operating Profit\n",
       "0       West    269943141          89608607\n",
       "1  Northeast    186323951          68019764\n",
       "2      South    144663146          61137379\n",
       "3  Southeast    163171211          60555029\n",
       "4    Midwest    135800344          52810769"
      ]
     },
     "execution_count": 27,
     "metadata": {},
     "output_type": "execute_result"
    }
   ],
   "source": [
    "#TOTAL SALES AND PROFIT MADE FROM EACH REGION\n",
    "region = adidas.groupby(\"Region\")[[\"Total Sales\",\"Operating Profit\"]].sum().reset_index()\n",
    "region = region.sort_values(by=\"Operating Profit\", ascending=False).reset_index()\n",
    "region.drop(columns=\"index\", inplace=True)\n",
    "region"
   ]
  },
  {
   "cell_type": "code",
   "execution_count": 28,
   "id": "124cbc3f",
   "metadata": {},
   "outputs": [
    {
     "data": {
      "text/html": [
       "<div>\n",
       "<style scoped>\n",
       "    .dataframe tbody tr th:only-of-type {\n",
       "        vertical-align: middle;\n",
       "    }\n",
       "\n",
       "    .dataframe tbody tr th {\n",
       "        vertical-align: top;\n",
       "    }\n",
       "\n",
       "    .dataframe thead th {\n",
       "        text-align: right;\n",
       "    }\n",
       "</style>\n",
       "<table border=\"1\" class=\"dataframe\">\n",
       "  <thead>\n",
       "    <tr style=\"text-align: right;\">\n",
       "      <th></th>\n",
       "      <th>City</th>\n",
       "      <th>Region</th>\n",
       "      <th>Operating Profit</th>\n",
       "    </tr>\n",
       "  </thead>\n",
       "  <tbody>\n",
       "    <tr>\n",
       "      <th>0</th>\n",
       "      <td>New York</td>\n",
       "      <td>Northeast</td>\n",
       "      <td>13899906</td>\n",
       "    </tr>\n",
       "    <tr>\n",
       "      <th>1</th>\n",
       "      <td>Miami</td>\n",
       "      <td>Southeast</td>\n",
       "      <td>12168579</td>\n",
       "    </tr>\n",
       "    <tr>\n",
       "      <th>2</th>\n",
       "      <td>San Francisco</td>\n",
       "      <td>West</td>\n",
       "      <td>10256188</td>\n",
       "    </tr>\n",
       "    <tr>\n",
       "      <th>3</th>\n",
       "      <td>Houston</td>\n",
       "      <td>South</td>\n",
       "      <td>9845075</td>\n",
       "    </tr>\n",
       "    <tr>\n",
       "      <th>4</th>\n",
       "      <td>Detroit</td>\n",
       "      <td>Midwest</td>\n",
       "      <td>8135844</td>\n",
       "    </tr>\n",
       "  </tbody>\n",
       "</table>\n",
       "</div>"
      ],
      "text/plain": [
       "            City     Region  Operating Profit\n",
       "0       New York  Northeast          13899906\n",
       "1          Miami  Southeast          12168579\n",
       "2  San Francisco       West          10256188\n",
       "3        Houston      South           9845075\n",
       "4        Detroit    Midwest           8135844"
      ]
     },
     "execution_count": 28,
     "metadata": {},
     "output_type": "execute_result"
    }
   ],
   "source": [
    "#TOP CITY IN EACH REGION\n",
    "top_city_region = adidas.groupby([\"City\",\"Region\"])[\"Operating Profit\"].sum().reset_index()\n",
    "top_city_region = top_city_region.sort_values(by=[\"Region\",\"Operating Profit\"], ascending=[True,False])\n",
    "top_city_region = top_city_region.groupby(\"Region\").head(1)\n",
    "top_city_region = top_city_region.sort_values(by=\"Operating Profit\", ascending=False).reset_index()\n",
    "top_city_region.drop(columns=\"index\", inplace=True)\n",
    "top_city_region"
   ]
  },
  {
   "cell_type": "code",
   "execution_count": 29,
   "id": "6b158b2a",
   "metadata": {},
   "outputs": [
    {
     "data": {
      "text/html": [
       "<div>\n",
       "<style scoped>\n",
       "    .dataframe tbody tr th:only-of-type {\n",
       "        vertical-align: middle;\n",
       "    }\n",
       "\n",
       "    .dataframe tbody tr th {\n",
       "        vertical-align: top;\n",
       "    }\n",
       "\n",
       "    .dataframe thead th {\n",
       "        text-align: right;\n",
       "    }\n",
       "</style>\n",
       "<table border=\"1\" class=\"dataframe\">\n",
       "  <thead>\n",
       "    <tr style=\"text-align: right;\">\n",
       "      <th></th>\n",
       "      <th>City</th>\n",
       "      <th>Region</th>\n",
       "      <th>Operating Profit</th>\n",
       "    </tr>\n",
       "  </thead>\n",
       "  <tbody>\n",
       "    <tr>\n",
       "      <th>0</th>\n",
       "      <td>Oklahoma City</td>\n",
       "      <td>South</td>\n",
       "      <td>4106461</td>\n",
       "    </tr>\n",
       "    <tr>\n",
       "      <th>1</th>\n",
       "      <td>Louisville</td>\n",
       "      <td>Southeast</td>\n",
       "      <td>3935789</td>\n",
       "    </tr>\n",
       "    <tr>\n",
       "      <th>2</th>\n",
       "      <td>Salt Lake City</td>\n",
       "      <td>West</td>\n",
       "      <td>3873353</td>\n",
       "    </tr>\n",
       "    <tr>\n",
       "      <th>3</th>\n",
       "      <td>Baltimore</td>\n",
       "      <td>Northeast</td>\n",
       "      <td>2757592</td>\n",
       "    </tr>\n",
       "    <tr>\n",
       "      <th>4</th>\n",
       "      <td>Omaha</td>\n",
       "      <td>Midwest</td>\n",
       "      <td>2439433</td>\n",
       "    </tr>\n",
       "  </tbody>\n",
       "</table>\n",
       "</div>"
      ],
      "text/plain": [
       "             City     Region  Operating Profit\n",
       "0   Oklahoma City      South           4106461\n",
       "1      Louisville  Southeast           3935789\n",
       "2  Salt Lake City       West           3873353\n",
       "3       Baltimore  Northeast           2757592\n",
       "4           Omaha    Midwest           2439433"
      ]
     },
     "execution_count": 29,
     "metadata": {},
     "output_type": "execute_result"
    }
   ],
   "source": [
    "#BOTTOM CITY IN EACH REGION\n",
    "bottom_city_region = adidas.groupby([\"City\",\"Region\"])[\"Operating Profit\"].sum().reset_index()\n",
    "bottom_city_region = bottom_city_region.sort_values(by=[\"Region\",\"Operating Profit\"], ascending=[True,True])\n",
    "bottom_city_region = bottom_city_region.groupby(\"Region\").head(1)\n",
    "bottom_city_region = bottom_city_region.sort_values(by=\"Operating Profit\", ascending=False).reset_index()\n",
    "bottom_city_region.drop(columns=\"index\", inplace=True)\n",
    "bottom_city_region"
   ]
  },
  {
   "cell_type": "markdown",
   "id": "da96ba8e",
   "metadata": {},
   "source": [
    "### CORRELATION ANALYSIS"
   ]
  },
  {
   "cell_type": "code",
   "execution_count": 30,
   "id": "03157c13",
   "metadata": {},
   "outputs": [
    {
     "data": {
      "text/plain": [
       "0.8923795697509708"
      ]
     },
     "execution_count": 30,
     "metadata": {},
     "output_type": "execute_result"
    }
   ],
   "source": [
    "#CORRELATION BETWEEN UNITS SOLD AND OPERATING PROFIT\n",
    "corr = adidas[\"Units Sold\"].corr(adidas[\"Operating Profit\"])\n",
    "corr"
   ]
  },
  {
   "cell_type": "code",
   "execution_count": 31,
   "id": "69e1abd6",
   "metadata": {},
   "outputs": [
    {
     "data": {
      "text/plain": [
       "0.39338861683021686"
      ]
     },
     "execution_count": 31,
     "metadata": {},
     "output_type": "execute_result"
    }
   ],
   "source": [
    "#CORRELATION BETWEEN PRICE AND OPERATING PROFIT\n",
    "corr = adidas[\"Price per Unit\"].corr(adidas[\"Operating Profit\"])\n",
    "corr"
   ]
  },
  {
   "cell_type": "markdown",
   "id": "d44cc072",
   "metadata": {},
   "source": [
    "### SALES METHOD ANALYSIS"
   ]
  },
  {
   "cell_type": "code",
   "execution_count": 32,
   "id": "8c31e529",
   "metadata": {},
   "outputs": [
    {
     "data": {
      "text/html": [
       "<div>\n",
       "<style scoped>\n",
       "    .dataframe tbody tr th:only-of-type {\n",
       "        vertical-align: middle;\n",
       "    }\n",
       "\n",
       "    .dataframe tbody tr th {\n",
       "        vertical-align: top;\n",
       "    }\n",
       "\n",
       "    .dataframe thead th {\n",
       "        text-align: right;\n",
       "    }\n",
       "</style>\n",
       "<table border=\"1\" class=\"dataframe\">\n",
       "  <thead>\n",
       "    <tr style=\"text-align: right;\">\n",
       "      <th></th>\n",
       "      <th>Total Sales</th>\n",
       "      <th>Operating Profit</th>\n",
       "    </tr>\n",
       "    <tr>\n",
       "      <th>Sales Method</th>\n",
       "      <th></th>\n",
       "      <th></th>\n",
       "    </tr>\n",
       "  </thead>\n",
       "  <tbody>\n",
       "    <tr>\n",
       "      <th>In-store</th>\n",
       "      <td>356643565</td>\n",
       "      <td>127590973</td>\n",
       "    </tr>\n",
       "    <tr>\n",
       "      <th>Online</th>\n",
       "      <td>247672811</td>\n",
       "      <td>96553370</td>\n",
       "    </tr>\n",
       "    <tr>\n",
       "      <th>Outlet</th>\n",
       "      <td>295585417</td>\n",
       "      <td>107987205</td>\n",
       "    </tr>\n",
       "  </tbody>\n",
       "</table>\n",
       "</div>"
      ],
      "text/plain": [
       "              Total Sales  Operating Profit\n",
       "Sales Method                               \n",
       "In-store        356643565         127590973\n",
       "Online          247672811          96553370\n",
       "Outlet          295585417         107987205"
      ]
     },
     "execution_count": 32,
     "metadata": {},
     "output_type": "execute_result"
    }
   ],
   "source": [
    "#TOTAL SALES AND PROFIT MADE BY EACH SALES METHOD\n",
    "sales_method = adidas.groupby(\"Sales Method\")[[\"Total Sales\",\"Operating Profit\"]].sum()\n",
    "sales_method"
   ]
  },
  {
   "cell_type": "code",
   "execution_count": 33,
   "id": "8aabea2e",
   "metadata": {},
   "outputs": [
    {
     "data": {
      "text/plain": [
       "<Figure size 1000x700 with 0 Axes>"
      ]
     },
     "metadata": {},
     "output_type": "display_data"
    },
    {
     "data": {
      "image/png": "[encoded data removed]",
      "text/plain": [
       "<Figure size 640x480 with 1 Axes>"
      ]
     },
     "metadata": {},
     "output_type": "display_data"
    }
   ],
   "source": [
    "plt.figure(figsize=(10,7))\n",
    "sales_method.plot(kind=\"bar\", stacked=True, color=[\"Black\", \"Grey\"])\n",
    "plt.title(\"Total Sales and Profit by Sales Method\")\n",
    "plt.xlabel(\"Sales Method\")\n",
    "plt.xticks(rotation=45)\n",
    "plt.show()"
   ]
  }
 ],
 "metadata": {
  "kernelspec": {
   "display_name": "Python 3 (ipykernel)",
   "language": "python",
   "name": "python3"
  },
  "language_info": {
   "codemirror_mode": {
    "name": "ipython",
    "version": 3
   },
   "file_extension": ".py",
   "mimetype": "text/x-python",
   "name": "python",
   "nbconvert_exporter": "python",
   "pygments_lexer": "ipython3",
   "version": "3.10.9"
  }
 },
 "nbformat": 4,
 "nbformat_minor": 5
}
